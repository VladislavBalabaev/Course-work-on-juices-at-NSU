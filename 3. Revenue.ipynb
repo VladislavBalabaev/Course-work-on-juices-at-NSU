{
 "cells": [
  {
   "cell_type": "code",
   "execution_count": 1,
   "outputs": [
    {
     "name": "stderr",
     "output_type": "stream",
     "text": [
      "C:\\Users\\Владислав\\AppData\\Local\\Programs\\Python\\Python310\\lib\\site-packages\\numpy\\_distributor_init.py:30: UserWarning: loaded more than 1 DLL from .libs:\n",
      "C:\\Users\\Владислав\\AppData\\Local\\Programs\\Python\\Python310\\lib\\site-packages\\numpy\\.libs\\libopenblas.EL2C6PLE4ZYW3ECEVIV3OXXGRN2NRFM2.gfortran-win_amd64.dll\n",
      "C:\\Users\\Владислав\\AppData\\Local\\Programs\\Python\\Python310\\lib\\site-packages\\numpy\\.libs\\libopenblas.XWYDX2IKJW2NMTWSFYNGFUWKQU3LYTCZ.gfortran-win_amd64.dll\n",
      "  warnings.warn(\"loaded more than 1 DLL from .libs:\"\n"
     ]
    },
    {
     "data": {
      "text/plain": "            date  av_price_46135  av_price_46902  av_price_59042  \\\n0     2009-01-01       65.000000       47.000000       56.000000   \n1     2009-01-02       65.000000       48.000000       60.000000   \n2     2009-01-03       66.000000       48.000000       61.000000   \n3     2009-01-04       65.000000       48.000000       61.000000   \n4     2009-01-05       66.000000       48.000000       61.000000   \n...          ...             ...             ...             ...   \n2186  2014-12-27       46.427693       50.434773       59.985598   \n2187  2014-12-28       46.427693       50.434773       59.985598   \n2188  2014-12-29       46.427693       50.434773       59.985598   \n2189  2014-12-30       46.427693       50.434773       59.985598   \n2190  2014-12-31       46.427693       50.434773       59.985598   \n\n      av_price_75320  av_price_201676  av_price_362058  av_price_415514  \\\n0          84.000000        42.000000        49.943062        36.707605   \n1          84.000000        42.000000        49.943062        36.707605   \n2          84.000000        42.000000        49.943062        36.707605   \n3          84.000000        42.000000        49.943062        36.707605   \n4          84.000000        42.000000        49.943062        36.707605   \n...              ...              ...              ...              ...   \n2186       50.464884        37.007582        49.943062        23.550279   \n2187       50.464884        37.007582        49.943062        23.550279   \n2188       50.464884        37.007582        49.943062        23.550279   \n2189       50.464884        37.007582        49.943062        23.550279   \n2190       50.464884        37.007582        49.943062        23.550279   \n\n      av_price_415824  av_price_419020  ...  month_August  month_December  \\\n0            69.01367        59.973953  ...             0               0   \n1            69.01367        59.973953  ...             0               0   \n2            69.01367        59.973953  ...             0               0   \n3            69.01367        59.973953  ...             0               0   \n4            69.01367        59.973953  ...             0               0   \n...               ...              ...  ...           ...             ...   \n2186         69.01367        52.483479  ...             0               1   \n2187         69.01367        55.174940  ...             0               1   \n2188         69.01367        55.174940  ...             0               1   \n2189         69.01367        55.174940  ...             0               1   \n2190         69.01367        55.174940  ...             0               1   \n\n      month_February  month_July  month_June  month_March  month_May  \\\n0                  0           0           0            0          0   \n1                  0           0           0            0          0   \n2                  0           0           0            0          0   \n3                  0           0           0            0          0   \n4                  0           0           0            0          0   \n...              ...         ...         ...          ...        ...   \n2186               0           0           0            0          0   \n2187               0           0           0            0          0   \n2188               0           0           0            0          0   \n2189               0           0           0            0          0   \n2190               0           0           0            0          0   \n\n      month_November  month_October  month_September  \n0                  0              0                0  \n1                  0              0                0  \n2                  0              0                0  \n3                  0              0                0  \n4                  0              0                0  \n...              ...            ...              ...  \n2186               0              0                0  \n2187               0              0                0  \n2188               0              0                0  \n2189               0              0                0  \n2190               0              0                0  \n\n[2191 rows x 78 columns]",
      "text/html": "<div>\n<style scoped>\n    .dataframe tbody tr th:only-of-type {\n        vertical-align: middle;\n    }\n\n    .dataframe tbody tr th {\n        vertical-align: top;\n    }\n\n    .dataframe thead th {\n        text-align: right;\n    }\n</style>\n<table border=\"1\" class=\"dataframe\">\n  <thead>\n    <tr style=\"text-align: right;\">\n      <th></th>\n      <th>date</th>\n      <th>av_price_46135</th>\n      <th>av_price_46902</th>\n      <th>av_price_59042</th>\n      <th>av_price_75320</th>\n      <th>av_price_201676</th>\n      <th>av_price_362058</th>\n      <th>av_price_415514</th>\n      <th>av_price_415824</th>\n      <th>av_price_419020</th>\n      <th>...</th>\n      <th>month_August</th>\n      <th>month_December</th>\n      <th>month_February</th>\n      <th>month_July</th>\n      <th>month_June</th>\n      <th>month_March</th>\n      <th>month_May</th>\n      <th>month_November</th>\n      <th>month_October</th>\n      <th>month_September</th>\n    </tr>\n  </thead>\n  <tbody>\n    <tr>\n      <th>0</th>\n      <td>2009-01-01</td>\n      <td>65.000000</td>\n      <td>47.000000</td>\n      <td>56.000000</td>\n      <td>84.000000</td>\n      <td>42.000000</td>\n      <td>49.943062</td>\n      <td>36.707605</td>\n      <td>69.01367</td>\n      <td>59.973953</td>\n      <td>...</td>\n      <td>0</td>\n      <td>0</td>\n      <td>0</td>\n      <td>0</td>\n      <td>0</td>\n      <td>0</td>\n      <td>0</td>\n      <td>0</td>\n      <td>0</td>\n      <td>0</td>\n    </tr>\n    <tr>\n      <th>1</th>\n      <td>2009-01-02</td>\n      <td>65.000000</td>\n      <td>48.000000</td>\n      <td>60.000000</td>\n      <td>84.000000</td>\n      <td>42.000000</td>\n      <td>49.943062</td>\n      <td>36.707605</td>\n      <td>69.01367</td>\n      <td>59.973953</td>\n      <td>...</td>\n      <td>0</td>\n      <td>0</td>\n      <td>0</td>\n      <td>0</td>\n      <td>0</td>\n      <td>0</td>\n      <td>0</td>\n      <td>0</td>\n      <td>0</td>\n      <td>0</td>\n    </tr>\n    <tr>\n      <th>2</th>\n      <td>2009-01-03</td>\n      <td>66.000000</td>\n      <td>48.000000</td>\n      <td>61.000000</td>\n      <td>84.000000</td>\n      <td>42.000000</td>\n      <td>49.943062</td>\n      <td>36.707605</td>\n      <td>69.01367</td>\n      <td>59.973953</td>\n      <td>...</td>\n      <td>0</td>\n      <td>0</td>\n      <td>0</td>\n      <td>0</td>\n      <td>0</td>\n      <td>0</td>\n      <td>0</td>\n      <td>0</td>\n      <td>0</td>\n      <td>0</td>\n    </tr>\n    <tr>\n      <th>3</th>\n      <td>2009-01-04</td>\n      <td>65.000000</td>\n      <td>48.000000</td>\n      <td>61.000000</td>\n      <td>84.000000</td>\n      <td>42.000000</td>\n      <td>49.943062</td>\n      <td>36.707605</td>\n      <td>69.01367</td>\n      <td>59.973953</td>\n      <td>...</td>\n      <td>0</td>\n      <td>0</td>\n      <td>0</td>\n      <td>0</td>\n      <td>0</td>\n      <td>0</td>\n      <td>0</td>\n      <td>0</td>\n      <td>0</td>\n      <td>0</td>\n    </tr>\n    <tr>\n      <th>4</th>\n      <td>2009-01-05</td>\n      <td>66.000000</td>\n      <td>48.000000</td>\n      <td>61.000000</td>\n      <td>84.000000</td>\n      <td>42.000000</td>\n      <td>49.943062</td>\n      <td>36.707605</td>\n      <td>69.01367</td>\n      <td>59.973953</td>\n      <td>...</td>\n      <td>0</td>\n      <td>0</td>\n      <td>0</td>\n      <td>0</td>\n      <td>0</td>\n      <td>0</td>\n      <td>0</td>\n      <td>0</td>\n      <td>0</td>\n      <td>0</td>\n    </tr>\n    <tr>\n      <th>...</th>\n      <td>...</td>\n      <td>...</td>\n      <td>...</td>\n      <td>...</td>\n      <td>...</td>\n      <td>...</td>\n      <td>...</td>\n      <td>...</td>\n      <td>...</td>\n      <td>...</td>\n      <td>...</td>\n      <td>...</td>\n      <td>...</td>\n      <td>...</td>\n      <td>...</td>\n      <td>...</td>\n      <td>...</td>\n      <td>...</td>\n      <td>...</td>\n      <td>...</td>\n      <td>...</td>\n    </tr>\n    <tr>\n      <th>2186</th>\n      <td>2014-12-27</td>\n      <td>46.427693</td>\n      <td>50.434773</td>\n      <td>59.985598</td>\n      <td>50.464884</td>\n      <td>37.007582</td>\n      <td>49.943062</td>\n      <td>23.550279</td>\n      <td>69.01367</td>\n      <td>52.483479</td>\n      <td>...</td>\n      <td>0</td>\n      <td>1</td>\n      <td>0</td>\n      <td>0</td>\n      <td>0</td>\n      <td>0</td>\n      <td>0</td>\n      <td>0</td>\n      <td>0</td>\n      <td>0</td>\n    </tr>\n    <tr>\n      <th>2187</th>\n      <td>2014-12-28</td>\n      <td>46.427693</td>\n      <td>50.434773</td>\n      <td>59.985598</td>\n      <td>50.464884</td>\n      <td>37.007582</td>\n      <td>49.943062</td>\n      <td>23.550279</td>\n      <td>69.01367</td>\n      <td>55.174940</td>\n      <td>...</td>\n      <td>0</td>\n      <td>1</td>\n      <td>0</td>\n      <td>0</td>\n      <td>0</td>\n      <td>0</td>\n      <td>0</td>\n      <td>0</td>\n      <td>0</td>\n      <td>0</td>\n    </tr>\n    <tr>\n      <th>2188</th>\n      <td>2014-12-29</td>\n      <td>46.427693</td>\n      <td>50.434773</td>\n      <td>59.985598</td>\n      <td>50.464884</td>\n      <td>37.007582</td>\n      <td>49.943062</td>\n      <td>23.550279</td>\n      <td>69.01367</td>\n      <td>55.174940</td>\n      <td>...</td>\n      <td>0</td>\n      <td>1</td>\n      <td>0</td>\n      <td>0</td>\n      <td>0</td>\n      <td>0</td>\n      <td>0</td>\n      <td>0</td>\n      <td>0</td>\n      <td>0</td>\n    </tr>\n    <tr>\n      <th>2189</th>\n      <td>2014-12-30</td>\n      <td>46.427693</td>\n      <td>50.434773</td>\n      <td>59.985598</td>\n      <td>50.464884</td>\n      <td>37.007582</td>\n      <td>49.943062</td>\n      <td>23.550279</td>\n      <td>69.01367</td>\n      <td>55.174940</td>\n      <td>...</td>\n      <td>0</td>\n      <td>1</td>\n      <td>0</td>\n      <td>0</td>\n      <td>0</td>\n      <td>0</td>\n      <td>0</td>\n      <td>0</td>\n      <td>0</td>\n      <td>0</td>\n    </tr>\n    <tr>\n      <th>2190</th>\n      <td>2014-12-31</td>\n      <td>46.427693</td>\n      <td>50.434773</td>\n      <td>59.985598</td>\n      <td>50.464884</td>\n      <td>37.007582</td>\n      <td>49.943062</td>\n      <td>23.550279</td>\n      <td>69.01367</td>\n      <td>55.174940</td>\n      <td>...</td>\n      <td>0</td>\n      <td>1</td>\n      <td>0</td>\n      <td>0</td>\n      <td>0</td>\n      <td>0</td>\n      <td>0</td>\n      <td>0</td>\n      <td>0</td>\n      <td>0</td>\n    </tr>\n  </tbody>\n</table>\n<p>2191 rows × 78 columns</p>\n</div>"
     },
     "execution_count": 1,
     "metadata": {},
     "output_type": "execute_result"
    }
   ],
   "source": [
    "# DOWNLOADING DATA\n",
    "\n",
    "import pandas as pd\n",
    "import numpy as np\n",
    "import plotly.graph_objects as go\n",
    "from plotly.subplots import make_subplots\n",
    "from plotly import offline\n",
    "from matplotlib import pyplot as plt\n",
    "import warnings\n",
    "warnings.filterwarnings(\"ignore\")\n",
    "\n",
    "tomato_discount = pd.read_csv('Dataframes/tomato_discount.csv')\n",
    "tomato_7 = pd.read_csv('Dataframes/tomato_7.csv')\n",
    "\n",
    "tomato_7"
   ],
   "metadata": {
    "collapsed": false,
    "pycharm": {
     "name": "#%%\n"
    }
   }
  },
  {
   "cell_type": "code",
   "execution_count": 8,
   "outputs": [],
   "source": [
    "prices = [tomato_7[col] for col in tomato_7.columns if 'price' in col]\n",
    "sales = [tomato_7[col] for col in tomato_7.columns if 'sales' in col]\n",
    "IDs = [col.strip('is_discount_') for col in tomato_discount.columns if 'is_discount_' in col]\n",
    "\n",
    "def revenue(quantity, price):\n",
    "        return pd.Series(np.array(quantity) * np.array(price), name = 'revenue_' + quantity.name.replace('salesvolume_', ''))\n",
    "\n",
    "def df_revenue(sales, prices):\n",
    "    revenues = []\n",
    "\n",
    "    global revenue\n",
    "\n",
    "    for i in range(len(sales)):\n",
    "        revenues.append(revenue(sales[i], prices[i]))\n",
    "\n",
    "    return pd.DataFrame(revenues).T\n",
    "\n",
    "rev = df_revenue(sales = sales, prices = prices)"
   ],
   "metadata": {
    "collapsed": false,
    "pycharm": {
     "name": "#%%\n"
    }
   }
  },
  {
   "cell_type": "code",
   "execution_count": 68,
   "outputs": [
    {
     "data": {
      "text/plain": "     revenue_46135  revenue_75320  revenue_201676  revenue_415514  \\\n0       136.194963      46.081499      126.923351       33.417774   \n1       136.194963      37.989739       72.734994       29.853995   \n2       136.194963      45.192177       84.650294       29.148970   \n3       136.194963      39.010011       72.461822       40.656038   \n4       136.194963      39.010011       69.867432       27.573380   \n..             ...            ...             ...             ...   \n321     155.461451      86.388586      140.046384      185.892851   \n322     155.461451      99.061017      109.900067      132.309197   \n323     155.461451      86.388586       97.144270      141.181351   \n324     155.461451     104.126452       99.242684      193.032077   \n325     155.461451      80.306307      120.521949      207.470816   \n\n     revenue_415824  revenue_419020  revenue_468496  revenue_468558  \\\n0         45.643090       49.933766       72.307495       91.236414   \n1         45.643090       49.933766       72.307495       72.116404   \n2         46.373580       67.433083       44.034637       88.970536   \n3         47.349865       67.433083       72.307495       81.595273   \n4         45.643090       46.051427       44.034637       76.344324   \n..              ...             ...             ...             ...   \n321       51.362091       68.938675       81.718973       59.759852   \n322       51.362091       64.015311       59.470065       78.669903   \n323       51.362091       67.298147       87.507955       66.639253   \n324       54.549220       65.891833       45.317757       65.373720   \n325       61.361517       66.290427       44.905777       72.135079   \n\n     revenue_471503  revenue_489135  revenue_600761  \n0         50.892546       93.259091       72.944603  \n1         53.090959      140.938447       56.204485  \n2         54.811948      107.969121       54.000056  \n3         52.807638      107.120102       54.687935  \n4         54.994040       96.900203       47.466511  \n..              ...             ...             ...  \n321       50.554153      571.391887       41.071639  \n322       47.680647      563.845500       46.504358  \n323       53.388535      738.953365       36.383583  \n324       54.715041      610.103691       37.236827  \n325       55.067357      780.835115       40.900543  \n\n[326 rows x 11 columns]",
      "text/html": "<div>\n<style scoped>\n    .dataframe tbody tr th:only-of-type {\n        vertical-align: middle;\n    }\n\n    .dataframe tbody tr th {\n        vertical-align: top;\n    }\n\n    .dataframe thead th {\n        text-align: right;\n    }\n</style>\n<table border=\"1\" class=\"dataframe\">\n  <thead>\n    <tr style=\"text-align: right;\">\n      <th></th>\n      <th>revenue_46135</th>\n      <th>revenue_75320</th>\n      <th>revenue_201676</th>\n      <th>revenue_415514</th>\n      <th>revenue_415824</th>\n      <th>revenue_419020</th>\n      <th>revenue_468496</th>\n      <th>revenue_468558</th>\n      <th>revenue_471503</th>\n      <th>revenue_489135</th>\n      <th>revenue_600761</th>\n    </tr>\n  </thead>\n  <tbody>\n    <tr>\n      <th>0</th>\n      <td>136.194963</td>\n      <td>46.081499</td>\n      <td>126.923351</td>\n      <td>33.417774</td>\n      <td>45.643090</td>\n      <td>49.933766</td>\n      <td>72.307495</td>\n      <td>91.236414</td>\n      <td>50.892546</td>\n      <td>93.259091</td>\n      <td>72.944603</td>\n    </tr>\n    <tr>\n      <th>1</th>\n      <td>136.194963</td>\n      <td>37.989739</td>\n      <td>72.734994</td>\n      <td>29.853995</td>\n      <td>45.643090</td>\n      <td>49.933766</td>\n      <td>72.307495</td>\n      <td>72.116404</td>\n      <td>53.090959</td>\n      <td>140.938447</td>\n      <td>56.204485</td>\n    </tr>\n    <tr>\n      <th>2</th>\n      <td>136.194963</td>\n      <td>45.192177</td>\n      <td>84.650294</td>\n      <td>29.148970</td>\n      <td>46.373580</td>\n      <td>67.433083</td>\n      <td>44.034637</td>\n      <td>88.970536</td>\n      <td>54.811948</td>\n      <td>107.969121</td>\n      <td>54.000056</td>\n    </tr>\n    <tr>\n      <th>3</th>\n      <td>136.194963</td>\n      <td>39.010011</td>\n      <td>72.461822</td>\n      <td>40.656038</td>\n      <td>47.349865</td>\n      <td>67.433083</td>\n      <td>72.307495</td>\n      <td>81.595273</td>\n      <td>52.807638</td>\n      <td>107.120102</td>\n      <td>54.687935</td>\n    </tr>\n    <tr>\n      <th>4</th>\n      <td>136.194963</td>\n      <td>39.010011</td>\n      <td>69.867432</td>\n      <td>27.573380</td>\n      <td>45.643090</td>\n      <td>46.051427</td>\n      <td>44.034637</td>\n      <td>76.344324</td>\n      <td>54.994040</td>\n      <td>96.900203</td>\n      <td>47.466511</td>\n    </tr>\n    <tr>\n      <th>...</th>\n      <td>...</td>\n      <td>...</td>\n      <td>...</td>\n      <td>...</td>\n      <td>...</td>\n      <td>...</td>\n      <td>...</td>\n      <td>...</td>\n      <td>...</td>\n      <td>...</td>\n      <td>...</td>\n    </tr>\n    <tr>\n      <th>321</th>\n      <td>155.461451</td>\n      <td>86.388586</td>\n      <td>140.046384</td>\n      <td>185.892851</td>\n      <td>51.362091</td>\n      <td>68.938675</td>\n      <td>81.718973</td>\n      <td>59.759852</td>\n      <td>50.554153</td>\n      <td>571.391887</td>\n      <td>41.071639</td>\n    </tr>\n    <tr>\n      <th>322</th>\n      <td>155.461451</td>\n      <td>99.061017</td>\n      <td>109.900067</td>\n      <td>132.309197</td>\n      <td>51.362091</td>\n      <td>64.015311</td>\n      <td>59.470065</td>\n      <td>78.669903</td>\n      <td>47.680647</td>\n      <td>563.845500</td>\n      <td>46.504358</td>\n    </tr>\n    <tr>\n      <th>323</th>\n      <td>155.461451</td>\n      <td>86.388586</td>\n      <td>97.144270</td>\n      <td>141.181351</td>\n      <td>51.362091</td>\n      <td>67.298147</td>\n      <td>87.507955</td>\n      <td>66.639253</td>\n      <td>53.388535</td>\n      <td>738.953365</td>\n      <td>36.383583</td>\n    </tr>\n    <tr>\n      <th>324</th>\n      <td>155.461451</td>\n      <td>104.126452</td>\n      <td>99.242684</td>\n      <td>193.032077</td>\n      <td>54.549220</td>\n      <td>65.891833</td>\n      <td>45.317757</td>\n      <td>65.373720</td>\n      <td>54.715041</td>\n      <td>610.103691</td>\n      <td>37.236827</td>\n    </tr>\n    <tr>\n      <th>325</th>\n      <td>155.461451</td>\n      <td>80.306307</td>\n      <td>120.521949</td>\n      <td>207.470816</td>\n      <td>61.361517</td>\n      <td>66.290427</td>\n      <td>44.905777</td>\n      <td>72.135079</td>\n      <td>55.067357</td>\n      <td>780.835115</td>\n      <td>40.900543</td>\n    </tr>\n  </tbody>\n</table>\n<p>326 rows × 11 columns</p>\n</div>"
     },
     "execution_count": 68,
     "metadata": {},
     "output_type": "execute_result"
    }
   ],
   "source": [
    "ids_no_zero = ['46135', '75320', '201676', '415514', '415824','419020', '468496', '468558', '471503', '489135','600761']\n",
    "\n",
    "date_test = pd.read_csv('Results/Vector models/date_test.csv')\n",
    "GBDT_test_preds = pd.read_csv('Results/Vector models/Vector GBDT/GBDT_test_preds.csv')\n",
    "\n",
    "tomato_test = tomato_7[tomato_7['date'].isin([i[0] for i in date_test.values])]\n",
    "\n",
    "prices_test = [tomato_test[col] for col in tomato_test.columns if 'price' in col]\n",
    "sales_test = [tomato_test[col] for col in tomato_test.columns if 'sales' in col]\n",
    "sales_test_GBDT = [GBDT_test_preds[i].rename(str(IDs[int(i)])) for i in GBDT_test_preds.columns]\n",
    "\n",
    "rev_test = df_revenue(sales = sales_test, prices = prices_test)[['revenue_' + i for i in ids_no_zero]]\n",
    "rev_test_GBDT = df_revenue(sales = sales_test_GBDT, prices = prices_test)[['revenue_' + i for i in ids_no_zero]]\n",
    "\n",
    "rev_test\n",
    "rev_test_GBDT"
   ],
   "metadata": {
    "collapsed": false,
    "pycharm": {
     "name": "#%%\n"
    }
   }
  },
  {
   "cell_type": "code",
   "execution_count": 64,
   "outputs": [
    {
     "name": "stdout",
     "output_type": "stream",
     "text": [
      "actual 468496 test:  25745.66040129647\n",
      "GBDT 468496 test:  25407.352761428912\n",
      "ratio:  1.31\n"
     ]
    }
   ],
   "source": [
    "print('actual 468496 test: ', rev_test['revenue_468496'].sum())\n",
    "print('GBDT 468496 test: ', rev_test_GBDT['revenue_468496'].sum())\n",
    "print('ratio: ',\n",
    "      round(\n",
    "          abs((rev_test['revenue_468496'].sum() - rev_test_GBDT['revenue_468496'].sum()) / rev_test['revenue_468496'].sum()) * 100\n",
    "          , 2))"
   ],
   "metadata": {
    "collapsed": false,
    "pycharm": {
     "name": "#%%\n"
    }
   }
  },
  {
   "cell_type": "code",
   "execution_count": 69,
   "outputs": [
    {
     "name": "stdout",
     "output_type": "stream",
     "text": [
      "actual SUM test:  348902.45996737643\n",
      "GBDT SUM test:  376756.3006203349\n",
      "ratio:  7.98\n"
     ]
    }
   ],
   "source": [
    "print('actual SUM test: ', rev_test.sum().sum())\n",
    "print('GBDT SUM test: ', rev_test_GBDT.sum().sum())\n",
    "print('ratio: ', round(abs((rev_test.sum().sum() - rev_test_GBDT.sum().sum()) / rev_test.sum().sum()) * 100, 2))"
   ],
   "metadata": {
    "collapsed": false,
    "pycharm": {
     "name": "#%%\n"
    }
   }
  },
  {
   "cell_type": "code",
   "execution_count": 3,
   "outputs": [
    {
     "name": "stdout",
     "output_type": "stream",
     "text": [
      "MEAN: 4.898115 STD: 4.405461000993539 MAX: 21.4296 MIN: 0.5996\n"
     ]
    },
    {
     "data": {
      "text/plain": "[1.3236,\n 4.4934,\n 1.2568,\n 5.5094,\n 2.3464,\n 2.7715,\n 5.1688,\n 10.0021,\n 6.1657,\n 2.6642,\n 8.0231,\n 0.5996,\n 3.1238,\n 1.9081,\n 4.6024,\n 4.417,\n 4.6962,\n 21.4296,\n 4.4802,\n 2.9804]"
     },
     "execution_count": 3,
     "metadata": {},
     "output_type": "execute_result"
    }
   ],
   "source": [
    "rev_sup_disc = []\n",
    "rev_mean = []\n",
    "rev_mean_ratio = []\n",
    "for id in IDs:\n",
    "    rev_sup_disc.append(pd.concat([tomato_discount['is_discount_' + id], rev[IDs.index(id)]], axis = 1)[tomato_7['is_supplied_' + id] == 1])\n",
    "    rev_mean.append(rev_sup_disc[IDs.index(id)].groupby(rev_sup_disc[IDs.index(id)]['is_discount_' + id] > 0).mean())\n",
    "    rev_mean_ratio.append(round(rev_mean[IDs.index(id)].iloc[1, 1] / rev_mean[IDs.index(id)].iloc[0, 1], 4))\n",
    "\n",
    "print(f'MEAN: {np.mean(rev_mean_ratio)}',\n",
    "      f'STD: {np.std(rev_mean_ratio)}',\n",
    "      f'MAX: {np.max(rev_mean_ratio)}',\n",
    "      f'MIN: {np.min(rev_mean_ratio)}')\n",
    "rev_mean_ratio"
   ],
   "metadata": {
    "collapsed": false,
    "pycharm": {
     "name": "#%%\n"
    }
   }
  }
 ],
 "metadata": {
  "kernelspec": {
   "display_name": "Python 3",
   "language": "python",
   "name": "python3"
  },
  "language_info": {
   "codemirror_mode": {
    "name": "ipython",
    "version": 2
   },
   "file_extension": ".py",
   "mimetype": "text/x-python",
   "name": "python",
   "nbconvert_exporter": "python",
   "pygments_lexer": "ipython2",
   "version": "2.7.6"
  }
 },
 "nbformat": 4,
 "nbformat_minor": 0
}
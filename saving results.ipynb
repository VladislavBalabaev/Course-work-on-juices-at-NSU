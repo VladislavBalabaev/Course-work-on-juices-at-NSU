{
 "cells": [
  {
   "cell_type": "code",
   "execution_count": 1,
   "outputs": [
    {
     "name": "stderr",
     "output_type": "stream",
     "text": [
      "C:\\Users\\Владислав\\AppData\\Local\\Programs\\Python\\Python310\\lib\\site-packages\\numpy\\_distributor_init.py:30: UserWarning: loaded more than 1 DLL from .libs:\n",
      "C:\\Users\\Владислав\\AppData\\Local\\Programs\\Python\\Python310\\lib\\site-packages\\numpy\\.libs\\libopenblas.EL2C6PLE4ZYW3ECEVIV3OXXGRN2NRFM2.gfortran-win_amd64.dll\n",
      "C:\\Users\\Владислав\\AppData\\Local\\Programs\\Python\\Python310\\lib\\site-packages\\numpy\\.libs\\libopenblas.XWYDX2IKJW2NMTWSFYNGFUWKQU3LYTCZ.gfortran-win_amd64.dll\n",
      "  warnings.warn(\"loaded more than 1 DLL from .libs:\"\n"
     ]
    }
   ],
   "source": [
    "# DOWNLOADING DATA\n",
    "\n",
    "import pandas as pd\n",
    "import numpy as np\n",
    "import warnings\n",
    "warnings.filterwarnings(\"ignore\")"
   ],
   "metadata": {
    "collapsed": false,
    "pycharm": {
     "name": "#%%\n"
    }
   }
  },
  {
   "cell_type": "code",
   "execution_count": 13,
   "outputs": [],
   "source": [
    "date_test = pd.read_csv('Results/Vector models/date_test.csv')\n",
    "y_tests = pd.read_csv('Results/Vector models/y_tests.csv')\n",
    "Poisson_test_preds = pd.read_csv('Results/Vector models/Vector Poisson/Poisson_test_preds.csv')\n",
    "NB2_test_preds = pd.read_csv('Results/Vector models/Vector Negative Binomial 2/NB2_test_preds.csv')\n",
    "ZIP_test_preds = pd.read_csv('Results/Vector models/Vector ZIP/ZIP_test_preds.csv')\n",
    "RF_test_preds = pd.read_csv('Results/Vector models/Vector Random Forest/RF_test_preds.csv')\n",
    "GBDT_test_preds = pd.read_csv('Results/Vector models/Vector GBDT/GBDT_test_preds.csv')\n",
    "discount = pd.read_csv('Dataframes/tomato_discount.csv')\n",
    "\n",
    "discount = discount[discount['date'].isin([*date_test.iloc[:, 0]])].reset_index(drop = True)\n",
    "discount_test_468496 = discount['is_discount_468496'].replace({0: np.NaN}) * 10 / 0.30\n",
    "\n",
    "df = pd.DataFrame(date_test)\n",
    "df['Actual'] = y_tests.iloc[:, 14]\n",
    "df['Poisson'] = Poisson_test_preds.iloc[:, 14]\n",
    "df['NegBin II'] = NB2_test_preds.iloc[:, 14]\n",
    "df['ZIP'] = ZIP_test_preds.iloc[:, 14]\n",
    "df['Random Forest'] = RF_test_preds.iloc[:, 14]\n",
    "df['GBDT'] = GBDT_test_preds.iloc[:, 14]\n",
    "df['Discount'] = discount_test_468496\n",
    "\n",
    "df.to_csv('Results/For images/test_468496.csv', index = False)"
   ],
   "metadata": {
    "collapsed": false,
    "pycharm": {
     "name": "#%%\n"
    }
   }
  },
  {
   "cell_type": "code",
   "execution_count": 19,
   "outputs": [
    {
     "data": {
      "text/plain": "           date  Actual      GBDT  Discount\n0    2014-02-08     1.0  1.005395       NaN\n1    2014-02-09     2.0  1.005395       NaN\n2    2014-02-10     1.0  0.612277       NaN\n3    2014-02-11     0.0  0.612277       NaN\n4    2014-02-12     0.0  0.612277       NaN\n..          ...     ...       ...       ...\n321  2014-12-26     0.0  1.104084       NaN\n322  2014-12-27     0.0  0.803485       NaN\n323  2014-12-28     1.0  1.182298       NaN\n324  2014-12-29     2.0  0.612277       NaN\n325  2014-12-30     0.0  0.612277       NaN\n\n[326 rows x 4 columns]",
      "text/html": "<div>\n<style scoped>\n    .dataframe tbody tr th:only-of-type {\n        vertical-align: middle;\n    }\n\n    .dataframe tbody tr th {\n        vertical-align: top;\n    }\n\n    .dataframe thead th {\n        text-align: right;\n    }\n</style>\n<table border=\"1\" class=\"dataframe\">\n  <thead>\n    <tr style=\"text-align: right;\">\n      <th></th>\n      <th>date</th>\n      <th>Actual</th>\n      <th>GBDT</th>\n      <th>Discount</th>\n    </tr>\n  </thead>\n  <tbody>\n    <tr>\n      <th>0</th>\n      <td>2014-02-08</td>\n      <td>1.0</td>\n      <td>1.005395</td>\n      <td>NaN</td>\n    </tr>\n    <tr>\n      <th>1</th>\n      <td>2014-02-09</td>\n      <td>2.0</td>\n      <td>1.005395</td>\n      <td>NaN</td>\n    </tr>\n    <tr>\n      <th>2</th>\n      <td>2014-02-10</td>\n      <td>1.0</td>\n      <td>0.612277</td>\n      <td>NaN</td>\n    </tr>\n    <tr>\n      <th>3</th>\n      <td>2014-02-11</td>\n      <td>0.0</td>\n      <td>0.612277</td>\n      <td>NaN</td>\n    </tr>\n    <tr>\n      <th>4</th>\n      <td>2014-02-12</td>\n      <td>0.0</td>\n      <td>0.612277</td>\n      <td>NaN</td>\n    </tr>\n    <tr>\n      <th>...</th>\n      <td>...</td>\n      <td>...</td>\n      <td>...</td>\n      <td>...</td>\n    </tr>\n    <tr>\n      <th>321</th>\n      <td>2014-12-26</td>\n      <td>0.0</td>\n      <td>1.104084</td>\n      <td>NaN</td>\n    </tr>\n    <tr>\n      <th>322</th>\n      <td>2014-12-27</td>\n      <td>0.0</td>\n      <td>0.803485</td>\n      <td>NaN</td>\n    </tr>\n    <tr>\n      <th>323</th>\n      <td>2014-12-28</td>\n      <td>1.0</td>\n      <td>1.182298</td>\n      <td>NaN</td>\n    </tr>\n    <tr>\n      <th>324</th>\n      <td>2014-12-29</td>\n      <td>2.0</td>\n      <td>0.612277</td>\n      <td>NaN</td>\n    </tr>\n    <tr>\n      <th>325</th>\n      <td>2014-12-30</td>\n      <td>0.0</td>\n      <td>0.612277</td>\n      <td>NaN</td>\n    </tr>\n  </tbody>\n</table>\n<p>326 rows × 4 columns</p>\n</div>"
     },
     "execution_count": 19,
     "metadata": {},
     "output_type": "execute_result"
    }
   ],
   "source": [
    "date_test = pd.read_csv('Results/Vector models/date_test.csv')\n",
    "GBDT_test_forecasts = pd.read_csv('Results/Vector models/Vector GBDT/GBDT_test_forecasts.csv')\n",
    "\n",
    "df_forecast = pd.DataFrame(date_test)\n",
    "df_forecast['Actual'] = y_tests.iloc[:, 14]\n",
    "df_forecast['GBDT'] = GBDT_test_forecasts.iloc[:, 14]\n",
    "df_forecast['Discount'] = discount_test_468496\n",
    "\n",
    "df_forecast.to_csv('Results/For images/forecast_468496.csv', index = False)\n",
    "\n",
    "df_forecast"
   ],
   "metadata": {
    "collapsed": false,
    "pycharm": {
     "name": "#%%\n"
    }
   }
  }
 ],
 "metadata": {
  "kernelspec": {
   "display_name": "Python 3",
   "language": "python",
   "name": "python3"
  },
  "language_info": {
   "codemirror_mode": {
    "name": "ipython",
    "version": 2
   },
   "file_extension": ".py",
   "mimetype": "text/x-python",
   "name": "python",
   "nbconvert_exporter": "python",
   "pygments_lexer": "ipython2",
   "version": "2.7.6"
  }
 },
 "nbformat": 4,
 "nbformat_minor": 0
}
{
 "cells": [
  {
   "cell_type": "code",
   "execution_count": 80,
   "metadata": {
    "collapsed": true
   },
   "outputs": [
    {
     "data": {
      "text/plain": "            date  salesvolume_24089  salesvolume_46135  salesvolume_46902  \\\n0     2009-01-08                1.0                0.0                1.0   \n1     2009-01-09                2.0                0.0                1.0   \n2     2009-01-10                4.0                0.0                0.0   \n3     2009-01-11                4.0                0.0                0.0   \n4     2009-01-12                1.0                0.0                0.0   \n...          ...                ...                ...                ...   \n2178  2014-12-26                0.0                0.0                0.0   \n2179  2014-12-27                1.0                0.0                0.0   \n2180  2014-12-28                0.0                0.0                0.0   \n2181  2014-12-29                1.0                1.0                0.0   \n2182  2014-12-30                0.0                2.0                0.0   \n\n      salesvolume_59042  salesvolume_75320  salesvolume_83524  \\\n0                   1.0                1.0                0.0   \n1                   1.0                0.0                0.0   \n2                   1.0                0.0                0.0   \n3                   1.0                1.0                0.0   \n4                   0.0                1.0                0.0   \n...                 ...                ...                ...   \n2178                0.0                2.0                0.0   \n2179                0.0                3.0                0.0   \n2180                0.0                2.0                0.0   \n2181                0.0                5.0                0.0   \n2182                0.0               21.0                0.0   \n\n      salesvolume_201676  salesvolume_362058  salesvolume_415514  ...  \\\n0                    0.0                 0.0                 0.0  ...   \n1                    0.0                 0.0                 0.0  ...   \n2                    0.0                 0.0                 0.0  ...   \n3                    0.0                 0.0                 0.0  ...   \n4                    0.0                 0.0                 0.0  ...   \n...                  ...                 ...                 ...  ...   \n2178                 1.0                 0.0                 8.0  ...   \n2179                 0.0                 0.0                 3.0  ...   \n2180                 1.0                 0.0                 8.0  ...   \n2181                 0.0                 0.0                 7.0  ...   \n2182                 2.0                 0.0                17.0  ...   \n\n      is_supplied_468558  is_supplied_471503  is_supplied_472150  \\\n0                      0                   0                   0   \n1                      0                   0                   0   \n2                      0                   0                   0   \n3                      0                   0                   0   \n4                      0                   0                   0   \n...                  ...                 ...                 ...   \n2178                   1                   1                   0   \n2179                   1                   1                   0   \n2180                   1                   1                   0   \n2181                   1                   1                   0   \n2182                   1                   1                   0   \n\n      is_supplied_481677  is_supplied_483692  is_supplied_485033  \\\n0                      0                   0                   0   \n1                      0                   0                   0   \n2                      0                   0                   0   \n3                      0                   0                   0   \n4                      0                   0                   0   \n...                  ...                 ...                 ...   \n2178                   0                   0                   0   \n2179                   0                   0                   0   \n2180                   0                   0                   0   \n2181                   0                   0                   0   \n2182                   0                   0                   0   \n\n      is_supplied_487776  is_supplied_489135  is_supplied_495154  \\\n0                      0                   0                   0   \n1                      0                   0                   0   \n2                      0                   0                   0   \n3                      0                   0                   0   \n4                      0                   0                   0   \n...                  ...                 ...                 ...   \n2178                   0                   1                   1   \n2179                   0                   1                   1   \n2180                   0                   1                   1   \n2181                   0                   1                   1   \n2182                   0                   1                   1   \n\n      is_supplied_600761  \n0                      0  \n1                      0  \n2                      0  \n3                      0  \n4                      0  \n...                  ...  \n2178                   0  \n2179                   0  \n2180                   0  \n2181                   0  \n2182                   1  \n\n[2183 rows x 154 columns]",
      "text/html": "<div>\n<style scoped>\n    .dataframe tbody tr th:only-of-type {\n        vertical-align: middle;\n    }\n\n    .dataframe tbody tr th {\n        vertical-align: top;\n    }\n\n    .dataframe thead th {\n        text-align: right;\n    }\n</style>\n<table border=\"1\" class=\"dataframe\">\n  <thead>\n    <tr style=\"text-align: right;\">\n      <th></th>\n      <th>date</th>\n      <th>salesvolume_24089</th>\n      <th>salesvolume_46135</th>\n      <th>salesvolume_46902</th>\n      <th>salesvolume_59042</th>\n      <th>salesvolume_75320</th>\n      <th>salesvolume_83524</th>\n      <th>salesvolume_201676</th>\n      <th>salesvolume_362058</th>\n      <th>salesvolume_415514</th>\n      <th>...</th>\n      <th>is_supplied_468558</th>\n      <th>is_supplied_471503</th>\n      <th>is_supplied_472150</th>\n      <th>is_supplied_481677</th>\n      <th>is_supplied_483692</th>\n      <th>is_supplied_485033</th>\n      <th>is_supplied_487776</th>\n      <th>is_supplied_489135</th>\n      <th>is_supplied_495154</th>\n      <th>is_supplied_600761</th>\n    </tr>\n  </thead>\n  <tbody>\n    <tr>\n      <th>0</th>\n      <td>2009-01-08</td>\n      <td>1.0</td>\n      <td>0.0</td>\n      <td>1.0</td>\n      <td>1.0</td>\n      <td>1.0</td>\n      <td>0.0</td>\n      <td>0.0</td>\n      <td>0.0</td>\n      <td>0.0</td>\n      <td>...</td>\n      <td>0</td>\n      <td>0</td>\n      <td>0</td>\n      <td>0</td>\n      <td>0</td>\n      <td>0</td>\n      <td>0</td>\n      <td>0</td>\n      <td>0</td>\n      <td>0</td>\n    </tr>\n    <tr>\n      <th>1</th>\n      <td>2009-01-09</td>\n      <td>2.0</td>\n      <td>0.0</td>\n      <td>1.0</td>\n      <td>1.0</td>\n      <td>0.0</td>\n      <td>0.0</td>\n      <td>0.0</td>\n      <td>0.0</td>\n      <td>0.0</td>\n      <td>...</td>\n      <td>0</td>\n      <td>0</td>\n      <td>0</td>\n      <td>0</td>\n      <td>0</td>\n      <td>0</td>\n      <td>0</td>\n      <td>0</td>\n      <td>0</td>\n      <td>0</td>\n    </tr>\n    <tr>\n      <th>2</th>\n      <td>2009-01-10</td>\n      <td>4.0</td>\n      <td>0.0</td>\n      <td>0.0</td>\n      <td>1.0</td>\n      <td>0.0</td>\n      <td>0.0</td>\n      <td>0.0</td>\n      <td>0.0</td>\n      <td>0.0</td>\n      <td>...</td>\n      <td>0</td>\n      <td>0</td>\n      <td>0</td>\n      <td>0</td>\n      <td>0</td>\n      <td>0</td>\n      <td>0</td>\n      <td>0</td>\n      <td>0</td>\n      <td>0</td>\n    </tr>\n    <tr>\n      <th>3</th>\n      <td>2009-01-11</td>\n      <td>4.0</td>\n      <td>0.0</td>\n      <td>0.0</td>\n      <td>1.0</td>\n      <td>1.0</td>\n      <td>0.0</td>\n      <td>0.0</td>\n      <td>0.0</td>\n      <td>0.0</td>\n      <td>...</td>\n      <td>0</td>\n      <td>0</td>\n      <td>0</td>\n      <td>0</td>\n      <td>0</td>\n      <td>0</td>\n      <td>0</td>\n      <td>0</td>\n      <td>0</td>\n      <td>0</td>\n    </tr>\n    <tr>\n      <th>4</th>\n      <td>2009-01-12</td>\n      <td>1.0</td>\n      <td>0.0</td>\n      <td>0.0</td>\n      <td>0.0</td>\n      <td>1.0</td>\n      <td>0.0</td>\n      <td>0.0</td>\n      <td>0.0</td>\n      <td>0.0</td>\n      <td>...</td>\n      <td>0</td>\n      <td>0</td>\n      <td>0</td>\n      <td>0</td>\n      <td>0</td>\n      <td>0</td>\n      <td>0</td>\n      <td>0</td>\n      <td>0</td>\n      <td>0</td>\n    </tr>\n    <tr>\n      <th>...</th>\n      <td>...</td>\n      <td>...</td>\n      <td>...</td>\n      <td>...</td>\n      <td>...</td>\n      <td>...</td>\n      <td>...</td>\n      <td>...</td>\n      <td>...</td>\n      <td>...</td>\n      <td>...</td>\n      <td>...</td>\n      <td>...</td>\n      <td>...</td>\n      <td>...</td>\n      <td>...</td>\n      <td>...</td>\n      <td>...</td>\n      <td>...</td>\n      <td>...</td>\n      <td>...</td>\n    </tr>\n    <tr>\n      <th>2178</th>\n      <td>2014-12-26</td>\n      <td>0.0</td>\n      <td>0.0</td>\n      <td>0.0</td>\n      <td>0.0</td>\n      <td>2.0</td>\n      <td>0.0</td>\n      <td>1.0</td>\n      <td>0.0</td>\n      <td>8.0</td>\n      <td>...</td>\n      <td>1</td>\n      <td>1</td>\n      <td>0</td>\n      <td>0</td>\n      <td>0</td>\n      <td>0</td>\n      <td>0</td>\n      <td>1</td>\n      <td>1</td>\n      <td>0</td>\n    </tr>\n    <tr>\n      <th>2179</th>\n      <td>2014-12-27</td>\n      <td>1.0</td>\n      <td>0.0</td>\n      <td>0.0</td>\n      <td>0.0</td>\n      <td>3.0</td>\n      <td>0.0</td>\n      <td>0.0</td>\n      <td>0.0</td>\n      <td>3.0</td>\n      <td>...</td>\n      <td>1</td>\n      <td>1</td>\n      <td>0</td>\n      <td>0</td>\n      <td>0</td>\n      <td>0</td>\n      <td>0</td>\n      <td>1</td>\n      <td>1</td>\n      <td>0</td>\n    </tr>\n    <tr>\n      <th>2180</th>\n      <td>2014-12-28</td>\n      <td>0.0</td>\n      <td>0.0</td>\n      <td>0.0</td>\n      <td>0.0</td>\n      <td>2.0</td>\n      <td>0.0</td>\n      <td>1.0</td>\n      <td>0.0</td>\n      <td>8.0</td>\n      <td>...</td>\n      <td>1</td>\n      <td>1</td>\n      <td>0</td>\n      <td>0</td>\n      <td>0</td>\n      <td>0</td>\n      <td>0</td>\n      <td>1</td>\n      <td>1</td>\n      <td>0</td>\n    </tr>\n    <tr>\n      <th>2181</th>\n      <td>2014-12-29</td>\n      <td>1.0</td>\n      <td>1.0</td>\n      <td>0.0</td>\n      <td>0.0</td>\n      <td>5.0</td>\n      <td>0.0</td>\n      <td>0.0</td>\n      <td>0.0</td>\n      <td>7.0</td>\n      <td>...</td>\n      <td>1</td>\n      <td>1</td>\n      <td>0</td>\n      <td>0</td>\n      <td>0</td>\n      <td>0</td>\n      <td>0</td>\n      <td>1</td>\n      <td>1</td>\n      <td>0</td>\n    </tr>\n    <tr>\n      <th>2182</th>\n      <td>2014-12-30</td>\n      <td>0.0</td>\n      <td>2.0</td>\n      <td>0.0</td>\n      <td>0.0</td>\n      <td>21.0</td>\n      <td>0.0</td>\n      <td>2.0</td>\n      <td>0.0</td>\n      <td>17.0</td>\n      <td>...</td>\n      <td>1</td>\n      <td>1</td>\n      <td>0</td>\n      <td>0</td>\n      <td>0</td>\n      <td>0</td>\n      <td>0</td>\n      <td>1</td>\n      <td>1</td>\n      <td>1</td>\n    </tr>\n  </tbody>\n</table>\n<p>2183 rows × 154 columns</p>\n</div>"
     },
     "execution_count": 80,
     "metadata": {},
     "output_type": "execute_result"
    }
   ],
   "source": [
    "# DOWNLOADING DATA\n",
    "\n",
    "import warnings\n",
    "warnings.filterwarnings(\"ignore\")\n",
    "\n",
    "import pandas as pd\n",
    "import numpy as np\n",
    "\n",
    "tomato_discount = pd.read_csv('Dataframes/tomato_discount.csv')\n",
    "tomato_12 = pd.read_csv('Dataframes/tomato_12.csv') # or index_col = 0 instead of index = False in 'qjuices'\n",
    "\n",
    "tomato_12"
   ]
  },
  {
   "cell_type": "code",
   "execution_count": 81,
   "outputs": [
    {
     "name": "stdout",
     "output_type": "stream",
     "text": [
      "Corr between target and it's price: -0.4644\n"
     ]
    },
    {
     "data": {
      "text/plain": "            date  salesvolume_24089_lag  salesvolume_46135_lag  \\\n0     2009-01-09                    1.0                    0.0   \n1     2009-01-10                    2.0                    0.0   \n2     2009-01-11                    4.0                    0.0   \n3     2009-01-12                    4.0                    0.0   \n4     2009-01-13                    1.0                    0.0   \n...          ...                    ...                    ...   \n2177  2014-12-26                    0.0                    1.0   \n2178  2014-12-27                    0.0                    0.0   \n2179  2014-12-28                    1.0                    0.0   \n2180  2014-12-29                    0.0                    0.0   \n2181  2014-12-30                    1.0                    1.0   \n\n      salesvolume_46902_lag  salesvolume_59042_lag  salesvolume_75320_lag  \\\n0                       1.0                    1.0                    1.0   \n1                       1.0                    1.0                    0.0   \n2                       0.0                    1.0                    0.0   \n3                       0.0                    1.0                    1.0   \n4                       0.0                    0.0                    1.0   \n...                     ...                    ...                    ...   \n2177                    0.0                    0.0                    2.0   \n2178                    0.0                    0.0                    2.0   \n2179                    0.0                    0.0                    3.0   \n2180                    0.0                    0.0                    2.0   \n2181                    0.0                    0.0                    5.0   \n\n      salesvolume_83524_lag  target  salesvolume_362058_lag  \\\n0                       0.0     0.0                     0.0   \n1                       0.0     0.0                     0.0   \n2                       0.0     0.0                     0.0   \n3                       0.0     0.0                     0.0   \n4                       0.0     0.0                     0.0   \n...                     ...     ...                     ...   \n2177                    0.0     1.0                     0.0   \n2178                    0.0     0.0                     0.0   \n2179                    0.0     1.0                     0.0   \n2180                    0.0     0.0                     0.0   \n2181                    0.0     2.0                     0.0   \n\n      salesvolume_415514_lag  ...  is_supplied_468558  is_supplied_471503  \\\n0                        0.0  ...                   0                   0   \n1                        0.0  ...                   0                   0   \n2                        0.0  ...                   0                   0   \n3                        0.0  ...                   0                   0   \n4                        0.0  ...                   0                   0   \n...                      ...  ...                 ...                 ...   \n2177                     6.0  ...                   1                   1   \n2178                     8.0  ...                   1                   1   \n2179                     3.0  ...                   1                   1   \n2180                     8.0  ...                   1                   1   \n2181                     7.0  ...                   1                   1   \n\n      is_supplied_472150  is_supplied_481677  is_supplied_483692  \\\n0                      0                   0                   0   \n1                      0                   0                   0   \n2                      0                   0                   0   \n3                      0                   0                   0   \n4                      0                   0                   0   \n...                  ...                 ...                 ...   \n2177                   0                   0                   0   \n2178                   0                   0                   0   \n2179                   0                   0                   0   \n2180                   0                   0                   0   \n2181                   0                   0                   0   \n\n      is_supplied_485033  is_supplied_487776  is_supplied_489135  \\\n0                      0                   0                   0   \n1                      0                   0                   0   \n2                      0                   0                   0   \n3                      0                   0                   0   \n4                      0                   0                   0   \n...                  ...                 ...                 ...   \n2177                   0                   0                   1   \n2178                   0                   0                   1   \n2179                   0                   0                   1   \n2180                   0                   0                   1   \n2181                   0                   0                   1   \n\n      is_supplied_495154  is_supplied_600761  \n0                      0                   0  \n1                      0                   0  \n2                      0                   0  \n3                      0                   0  \n4                      0                   0  \n...                  ...                 ...  \n2177                   1                   0  \n2178                   1                   0  \n2179                   1                   0  \n2180                   1                   0  \n2181                   1                   1  \n\n[2182 rows x 154 columns]",
      "text/html": "<div>\n<style scoped>\n    .dataframe tbody tr th:only-of-type {\n        vertical-align: middle;\n    }\n\n    .dataframe tbody tr th {\n        vertical-align: top;\n    }\n\n    .dataframe thead th {\n        text-align: right;\n    }\n</style>\n<table border=\"1\" class=\"dataframe\">\n  <thead>\n    <tr style=\"text-align: right;\">\n      <th></th>\n      <th>date</th>\n      <th>salesvolume_24089_lag</th>\n      <th>salesvolume_46135_lag</th>\n      <th>salesvolume_46902_lag</th>\n      <th>salesvolume_59042_lag</th>\n      <th>salesvolume_75320_lag</th>\n      <th>salesvolume_83524_lag</th>\n      <th>target</th>\n      <th>salesvolume_362058_lag</th>\n      <th>salesvolume_415514_lag</th>\n      <th>...</th>\n      <th>is_supplied_468558</th>\n      <th>is_supplied_471503</th>\n      <th>is_supplied_472150</th>\n      <th>is_supplied_481677</th>\n      <th>is_supplied_483692</th>\n      <th>is_supplied_485033</th>\n      <th>is_supplied_487776</th>\n      <th>is_supplied_489135</th>\n      <th>is_supplied_495154</th>\n      <th>is_supplied_600761</th>\n    </tr>\n  </thead>\n  <tbody>\n    <tr>\n      <th>0</th>\n      <td>2009-01-09</td>\n      <td>1.0</td>\n      <td>0.0</td>\n      <td>1.0</td>\n      <td>1.0</td>\n      <td>1.0</td>\n      <td>0.0</td>\n      <td>0.0</td>\n      <td>0.0</td>\n      <td>0.0</td>\n      <td>...</td>\n      <td>0</td>\n      <td>0</td>\n      <td>0</td>\n      <td>0</td>\n      <td>0</td>\n      <td>0</td>\n      <td>0</td>\n      <td>0</td>\n      <td>0</td>\n      <td>0</td>\n    </tr>\n    <tr>\n      <th>1</th>\n      <td>2009-01-10</td>\n      <td>2.0</td>\n      <td>0.0</td>\n      <td>1.0</td>\n      <td>1.0</td>\n      <td>0.0</td>\n      <td>0.0</td>\n      <td>0.0</td>\n      <td>0.0</td>\n      <td>0.0</td>\n      <td>...</td>\n      <td>0</td>\n      <td>0</td>\n      <td>0</td>\n      <td>0</td>\n      <td>0</td>\n      <td>0</td>\n      <td>0</td>\n      <td>0</td>\n      <td>0</td>\n      <td>0</td>\n    </tr>\n    <tr>\n      <th>2</th>\n      <td>2009-01-11</td>\n      <td>4.0</td>\n      <td>0.0</td>\n      <td>0.0</td>\n      <td>1.0</td>\n      <td>0.0</td>\n      <td>0.0</td>\n      <td>0.0</td>\n      <td>0.0</td>\n      <td>0.0</td>\n      <td>...</td>\n      <td>0</td>\n      <td>0</td>\n      <td>0</td>\n      <td>0</td>\n      <td>0</td>\n      <td>0</td>\n      <td>0</td>\n      <td>0</td>\n      <td>0</td>\n      <td>0</td>\n    </tr>\n    <tr>\n      <th>3</th>\n      <td>2009-01-12</td>\n      <td>4.0</td>\n      <td>0.0</td>\n      <td>0.0</td>\n      <td>1.0</td>\n      <td>1.0</td>\n      <td>0.0</td>\n      <td>0.0</td>\n      <td>0.0</td>\n      <td>0.0</td>\n      <td>...</td>\n      <td>0</td>\n      <td>0</td>\n      <td>0</td>\n      <td>0</td>\n      <td>0</td>\n      <td>0</td>\n      <td>0</td>\n      <td>0</td>\n      <td>0</td>\n      <td>0</td>\n    </tr>\n    <tr>\n      <th>4</th>\n      <td>2009-01-13</td>\n      <td>1.0</td>\n      <td>0.0</td>\n      <td>0.0</td>\n      <td>0.0</td>\n      <td>1.0</td>\n      <td>0.0</td>\n      <td>0.0</td>\n      <td>0.0</td>\n      <td>0.0</td>\n      <td>...</td>\n      <td>0</td>\n      <td>0</td>\n      <td>0</td>\n      <td>0</td>\n      <td>0</td>\n      <td>0</td>\n      <td>0</td>\n      <td>0</td>\n      <td>0</td>\n      <td>0</td>\n    </tr>\n    <tr>\n      <th>...</th>\n      <td>...</td>\n      <td>...</td>\n      <td>...</td>\n      <td>...</td>\n      <td>...</td>\n      <td>...</td>\n      <td>...</td>\n      <td>...</td>\n      <td>...</td>\n      <td>...</td>\n      <td>...</td>\n      <td>...</td>\n      <td>...</td>\n      <td>...</td>\n      <td>...</td>\n      <td>...</td>\n      <td>...</td>\n      <td>...</td>\n      <td>...</td>\n      <td>...</td>\n      <td>...</td>\n    </tr>\n    <tr>\n      <th>2177</th>\n      <td>2014-12-26</td>\n      <td>0.0</td>\n      <td>1.0</td>\n      <td>0.0</td>\n      <td>0.0</td>\n      <td>2.0</td>\n      <td>0.0</td>\n      <td>1.0</td>\n      <td>0.0</td>\n      <td>6.0</td>\n      <td>...</td>\n      <td>1</td>\n      <td>1</td>\n      <td>0</td>\n      <td>0</td>\n      <td>0</td>\n      <td>0</td>\n      <td>0</td>\n      <td>1</td>\n      <td>1</td>\n      <td>0</td>\n    </tr>\n    <tr>\n      <th>2178</th>\n      <td>2014-12-27</td>\n      <td>0.0</td>\n      <td>0.0</td>\n      <td>0.0</td>\n      <td>0.0</td>\n      <td>2.0</td>\n      <td>0.0</td>\n      <td>0.0</td>\n      <td>0.0</td>\n      <td>8.0</td>\n      <td>...</td>\n      <td>1</td>\n      <td>1</td>\n      <td>0</td>\n      <td>0</td>\n      <td>0</td>\n      <td>0</td>\n      <td>0</td>\n      <td>1</td>\n      <td>1</td>\n      <td>0</td>\n    </tr>\n    <tr>\n      <th>2179</th>\n      <td>2014-12-28</td>\n      <td>1.0</td>\n      <td>0.0</td>\n      <td>0.0</td>\n      <td>0.0</td>\n      <td>3.0</td>\n      <td>0.0</td>\n      <td>1.0</td>\n      <td>0.0</td>\n      <td>3.0</td>\n      <td>...</td>\n      <td>1</td>\n      <td>1</td>\n      <td>0</td>\n      <td>0</td>\n      <td>0</td>\n      <td>0</td>\n      <td>0</td>\n      <td>1</td>\n      <td>1</td>\n      <td>0</td>\n    </tr>\n    <tr>\n      <th>2180</th>\n      <td>2014-12-29</td>\n      <td>0.0</td>\n      <td>0.0</td>\n      <td>0.0</td>\n      <td>0.0</td>\n      <td>2.0</td>\n      <td>0.0</td>\n      <td>0.0</td>\n      <td>0.0</td>\n      <td>8.0</td>\n      <td>...</td>\n      <td>1</td>\n      <td>1</td>\n      <td>0</td>\n      <td>0</td>\n      <td>0</td>\n      <td>0</td>\n      <td>0</td>\n      <td>1</td>\n      <td>1</td>\n      <td>0</td>\n    </tr>\n    <tr>\n      <th>2181</th>\n      <td>2014-12-30</td>\n      <td>1.0</td>\n      <td>1.0</td>\n      <td>0.0</td>\n      <td>0.0</td>\n      <td>5.0</td>\n      <td>0.0</td>\n      <td>2.0</td>\n      <td>0.0</td>\n      <td>7.0</td>\n      <td>...</td>\n      <td>1</td>\n      <td>1</td>\n      <td>0</td>\n      <td>0</td>\n      <td>0</td>\n      <td>0</td>\n      <td>0</td>\n      <td>1</td>\n      <td>1</td>\n      <td>1</td>\n    </tr>\n  </tbody>\n</table>\n<p>2182 rows × 154 columns</p>\n</div>"
     },
     "execution_count": 81,
     "metadata": {},
     "output_type": "execute_result"
    }
   ],
   "source": [
    "# SETTING DATA TO TARGET\n",
    "\n",
    "target_sku = '201676'\n",
    "\n",
    "sales_names_to_shift = [col for col in tomato_12.columns if 'salesvolume' in col and target_sku not in col]\n",
    "\n",
    "tomato_12.loc[:, sales_names_to_shift] = tomato_12.loc[:, sales_names_to_shift].shift(1)\n",
    "tomato_12 = tomato_12.iloc[1:, :]\n",
    "\n",
    "for colname in sales_names_to_shift:\n",
    "    tomato_12.rename(columns = {colname: colname + '_lag'}, inplace = True)\n",
    "\n",
    "tomato_12.rename(columns = {'salesvolume_' + target_sku: 'target', 'av_price_' + target_sku: 'price_of_target'}, inplace = True)\n",
    "tomato_12.reset_index(drop = True, inplace = True)\n",
    "\n",
    "print('Corr between target and it\\'s price: {}'.format(round(tomato_12.corr().loc['target', 'price_of_target'], 4)))\n",
    "\n",
    "tomato_12"
   ],
   "metadata": {
    "collapsed": false,
    "pycharm": {
     "name": "#%%\n"
    }
   }
  },
  {
   "cell_type": "code",
   "execution_count": 82,
   "outputs": [
    {
     "data": {
      "text/plain": "            date  salesvolume_24089_lag  salesvolume_46135_lag  \\\n0     2009-01-16                    1.0                    0.0   \n1     2009-01-17                    0.0                    0.0   \n2     2009-01-18                    0.0                    0.0   \n3     2009-01-19                    0.0                    0.0   \n4     2009-01-20                    1.0                    0.0   \n...          ...                    ...                    ...   \n2170  2014-12-26                    0.0                    1.0   \n2171  2014-12-27                    0.0                    0.0   \n2172  2014-12-28                    1.0                    0.0   \n2173  2014-12-29                    0.0                    0.0   \n2174  2014-12-30                    1.0                    1.0   \n\n      salesvolume_46902_lag  salesvolume_59042_lag  salesvolume_75320_lag  \\\n0                       1.0                    0.0                    0.0   \n1                       2.0                    0.0                    1.0   \n2                       2.0                    1.0                    0.0   \n3                       0.0                    0.0                    1.0   \n4                       1.0                    0.0                    1.0   \n...                     ...                    ...                    ...   \n2170                    0.0                    0.0                    2.0   \n2171                    0.0                    0.0                    2.0   \n2172                    0.0                    0.0                    3.0   \n2173                    0.0                    0.0                    2.0   \n2174                    0.0                    0.0                    5.0   \n\n      salesvolume_83524_lag  target  salesvolume_362058_lag  \\\n0                       0.0     0.0                     0.0   \n1                       0.0     0.0                     0.0   \n2                       0.0     0.0                     0.0   \n3                       0.0     0.0                     0.0   \n4                       1.0     0.0                     0.0   \n...                     ...     ...                     ...   \n2170                    0.0     1.0                     0.0   \n2171                    0.0     0.0                     0.0   \n2172                    0.0     1.0                     0.0   \n2173                    0.0     0.0                     0.0   \n2174                    0.0     2.0                     0.0   \n\n      salesvolume_415514_lag  ...  is_supplied_471503_7  is_supplied_472150_7  \\\n0                        0.0  ...                   0.0                   0.0   \n1                        0.0  ...                   0.0                   0.0   \n2                        0.0  ...                   0.0                   0.0   \n3                        0.0  ...                   0.0                   0.0   \n4                        0.0  ...                   0.0                   0.0   \n...                      ...  ...                   ...                   ...   \n2170                     6.0  ...                   1.0                   0.0   \n2171                     8.0  ...                   1.0                   0.0   \n2172                     3.0  ...                   1.0                   0.0   \n2173                     8.0  ...                   1.0                   0.0   \n2174                     7.0  ...                   1.0                   0.0   \n\n      is_supplied_481677_7  is_supplied_483692_7  is_supplied_485033_7  \\\n0                      0.0                   0.0                   0.0   \n1                      0.0                   0.0                   0.0   \n2                      0.0                   0.0                   0.0   \n3                      0.0                   0.0                   0.0   \n4                      0.0                   0.0                   0.0   \n...                    ...                   ...                   ...   \n2170                   0.0                   0.0                   0.0   \n2171                   0.0                   0.0                   0.0   \n2172                   0.0                   0.0                   0.0   \n2173                   0.0                   0.0                   0.0   \n2174                   0.0                   0.0                   0.0   \n\n      is_supplied_487776_7  is_supplied_489135_7  is_supplied_495154_7  \\\n0                      0.0                   0.0                   0.0   \n1                      0.0                   0.0                   0.0   \n2                      0.0                   0.0                   0.0   \n3                      0.0                   0.0                   0.0   \n4                      0.0                   0.0                   0.0   \n...                    ...                   ...                   ...   \n2170                   0.0                   0.0                   1.0   \n2171                   0.0                   0.0                   1.0   \n2172                   0.0                   0.0                   1.0   \n2173                   0.0                   0.0                   1.0   \n2174                   0.0                   0.0                   1.0   \n\n      is_supplied_600761_7  target_7  \n0                      0.0       0.0  \n1                      0.0       0.0  \n2                      0.0       0.0  \n3                      0.0       0.0  \n4                      0.0       0.0  \n...                    ...       ...  \n2170                   0.0       7.0  \n2171                   0.0      19.0  \n2172                   0.0       2.0  \n2173                   0.0       0.0  \n2174                   0.0       0.0  \n\n[2175 rows x 510 columns]",
      "text/html": "<div>\n<style scoped>\n    .dataframe tbody tr th:only-of-type {\n        vertical-align: middle;\n    }\n\n    .dataframe tbody tr th {\n        vertical-align: top;\n    }\n\n    .dataframe thead th {\n        text-align: right;\n    }\n</style>\n<table border=\"1\" class=\"dataframe\">\n  <thead>\n    <tr style=\"text-align: right;\">\n      <th></th>\n      <th>date</th>\n      <th>salesvolume_24089_lag</th>\n      <th>salesvolume_46135_lag</th>\n      <th>salesvolume_46902_lag</th>\n      <th>salesvolume_59042_lag</th>\n      <th>salesvolume_75320_lag</th>\n      <th>salesvolume_83524_lag</th>\n      <th>target</th>\n      <th>salesvolume_362058_lag</th>\n      <th>salesvolume_415514_lag</th>\n      <th>...</th>\n      <th>is_supplied_471503_7</th>\n      <th>is_supplied_472150_7</th>\n      <th>is_supplied_481677_7</th>\n      <th>is_supplied_483692_7</th>\n      <th>is_supplied_485033_7</th>\n      <th>is_supplied_487776_7</th>\n      <th>is_supplied_489135_7</th>\n      <th>is_supplied_495154_7</th>\n      <th>is_supplied_600761_7</th>\n      <th>target_7</th>\n    </tr>\n  </thead>\n  <tbody>\n    <tr>\n      <th>0</th>\n      <td>2009-01-16</td>\n      <td>1.0</td>\n      <td>0.0</td>\n      <td>1.0</td>\n      <td>0.0</td>\n      <td>0.0</td>\n      <td>0.0</td>\n      <td>0.0</td>\n      <td>0.0</td>\n      <td>0.0</td>\n      <td>...</td>\n      <td>0.0</td>\n      <td>0.0</td>\n      <td>0.0</td>\n      <td>0.0</td>\n      <td>0.0</td>\n      <td>0.0</td>\n      <td>0.0</td>\n      <td>0.0</td>\n      <td>0.0</td>\n      <td>0.0</td>\n    </tr>\n    <tr>\n      <th>1</th>\n      <td>2009-01-17</td>\n      <td>0.0</td>\n      <td>0.0</td>\n      <td>2.0</td>\n      <td>0.0</td>\n      <td>1.0</td>\n      <td>0.0</td>\n      <td>0.0</td>\n      <td>0.0</td>\n      <td>0.0</td>\n      <td>...</td>\n      <td>0.0</td>\n      <td>0.0</td>\n      <td>0.0</td>\n      <td>0.0</td>\n      <td>0.0</td>\n      <td>0.0</td>\n      <td>0.0</td>\n      <td>0.0</td>\n      <td>0.0</td>\n      <td>0.0</td>\n    </tr>\n    <tr>\n      <th>2</th>\n      <td>2009-01-18</td>\n      <td>0.0</td>\n      <td>0.0</td>\n      <td>2.0</td>\n      <td>1.0</td>\n      <td>0.0</td>\n      <td>0.0</td>\n      <td>0.0</td>\n      <td>0.0</td>\n      <td>0.0</td>\n      <td>...</td>\n      <td>0.0</td>\n      <td>0.0</td>\n      <td>0.0</td>\n      <td>0.0</td>\n      <td>0.0</td>\n      <td>0.0</td>\n      <td>0.0</td>\n      <td>0.0</td>\n      <td>0.0</td>\n      <td>0.0</td>\n    </tr>\n    <tr>\n      <th>3</th>\n      <td>2009-01-19</td>\n      <td>0.0</td>\n      <td>0.0</td>\n      <td>0.0</td>\n      <td>0.0</td>\n      <td>1.0</td>\n      <td>0.0</td>\n      <td>0.0</td>\n      <td>0.0</td>\n      <td>0.0</td>\n      <td>...</td>\n      <td>0.0</td>\n      <td>0.0</td>\n      <td>0.0</td>\n      <td>0.0</td>\n      <td>0.0</td>\n      <td>0.0</td>\n      <td>0.0</td>\n      <td>0.0</td>\n      <td>0.0</td>\n      <td>0.0</td>\n    </tr>\n    <tr>\n      <th>4</th>\n      <td>2009-01-20</td>\n      <td>1.0</td>\n      <td>0.0</td>\n      <td>1.0</td>\n      <td>0.0</td>\n      <td>1.0</td>\n      <td>1.0</td>\n      <td>0.0</td>\n      <td>0.0</td>\n      <td>0.0</td>\n      <td>...</td>\n      <td>0.0</td>\n      <td>0.0</td>\n      <td>0.0</td>\n      <td>0.0</td>\n      <td>0.0</td>\n      <td>0.0</td>\n      <td>0.0</td>\n      <td>0.0</td>\n      <td>0.0</td>\n      <td>0.0</td>\n    </tr>\n    <tr>\n      <th>...</th>\n      <td>...</td>\n      <td>...</td>\n      <td>...</td>\n      <td>...</td>\n      <td>...</td>\n      <td>...</td>\n      <td>...</td>\n      <td>...</td>\n      <td>...</td>\n      <td>...</td>\n      <td>...</td>\n      <td>...</td>\n      <td>...</td>\n      <td>...</td>\n      <td>...</td>\n      <td>...</td>\n      <td>...</td>\n      <td>...</td>\n      <td>...</td>\n      <td>...</td>\n      <td>...</td>\n    </tr>\n    <tr>\n      <th>2170</th>\n      <td>2014-12-26</td>\n      <td>0.0</td>\n      <td>1.0</td>\n      <td>0.0</td>\n      <td>0.0</td>\n      <td>2.0</td>\n      <td>0.0</td>\n      <td>1.0</td>\n      <td>0.0</td>\n      <td>6.0</td>\n      <td>...</td>\n      <td>1.0</td>\n      <td>0.0</td>\n      <td>0.0</td>\n      <td>0.0</td>\n      <td>0.0</td>\n      <td>0.0</td>\n      <td>0.0</td>\n      <td>1.0</td>\n      <td>0.0</td>\n      <td>7.0</td>\n    </tr>\n    <tr>\n      <th>2171</th>\n      <td>2014-12-27</td>\n      <td>0.0</td>\n      <td>0.0</td>\n      <td>0.0</td>\n      <td>0.0</td>\n      <td>2.0</td>\n      <td>0.0</td>\n      <td>0.0</td>\n      <td>0.0</td>\n      <td>8.0</td>\n      <td>...</td>\n      <td>1.0</td>\n      <td>0.0</td>\n      <td>0.0</td>\n      <td>0.0</td>\n      <td>0.0</td>\n      <td>0.0</td>\n      <td>0.0</td>\n      <td>1.0</td>\n      <td>0.0</td>\n      <td>19.0</td>\n    </tr>\n    <tr>\n      <th>2172</th>\n      <td>2014-12-28</td>\n      <td>1.0</td>\n      <td>0.0</td>\n      <td>0.0</td>\n      <td>0.0</td>\n      <td>3.0</td>\n      <td>0.0</td>\n      <td>1.0</td>\n      <td>0.0</td>\n      <td>3.0</td>\n      <td>...</td>\n      <td>1.0</td>\n      <td>0.0</td>\n      <td>0.0</td>\n      <td>0.0</td>\n      <td>0.0</td>\n      <td>0.0</td>\n      <td>0.0</td>\n      <td>1.0</td>\n      <td>0.0</td>\n      <td>2.0</td>\n    </tr>\n    <tr>\n      <th>2173</th>\n      <td>2014-12-29</td>\n      <td>0.0</td>\n      <td>0.0</td>\n      <td>0.0</td>\n      <td>0.0</td>\n      <td>2.0</td>\n      <td>0.0</td>\n      <td>0.0</td>\n      <td>0.0</td>\n      <td>8.0</td>\n      <td>...</td>\n      <td>1.0</td>\n      <td>0.0</td>\n      <td>0.0</td>\n      <td>0.0</td>\n      <td>0.0</td>\n      <td>0.0</td>\n      <td>0.0</td>\n      <td>1.0</td>\n      <td>0.0</td>\n      <td>0.0</td>\n    </tr>\n    <tr>\n      <th>2174</th>\n      <td>2014-12-30</td>\n      <td>1.0</td>\n      <td>1.0</td>\n      <td>0.0</td>\n      <td>0.0</td>\n      <td>5.0</td>\n      <td>0.0</td>\n      <td>2.0</td>\n      <td>0.0</td>\n      <td>7.0</td>\n      <td>...</td>\n      <td>1.0</td>\n      <td>0.0</td>\n      <td>0.0</td>\n      <td>0.0</td>\n      <td>0.0</td>\n      <td>0.0</td>\n      <td>0.0</td>\n      <td>1.0</td>\n      <td>0.0</td>\n      <td>0.0</td>\n    </tr>\n  </tbody>\n</table>\n<p>2175 rows × 510 columns</p>\n</div>"
     },
     "execution_count": 82,
     "metadata": {},
     "output_type": "execute_result"
    }
   ],
   "source": [
    "# ADDING more LAGS\n",
    "\n",
    "names_to_shift = [col for col in tomato_12.columns if 'salesvolume_' in col] + \\\n",
    "                 [col for col in tomato_12.columns if 'av_price_' in col] + \\\n",
    "                 [col for col in tomato_12.columns if 'is_supplied' in col] + \\\n",
    "                 ['target']\n",
    "\n",
    "for i in [1, 2, 6, 7]:\n",
    "    for col in names_to_shift:\n",
    "        tomato_12[col + '_' + str(i)] = tomato_12[col].shift(i)\n",
    "\n",
    "tomato_12 = tomato_12[7:]\n",
    "\n",
    "tomato_12.reset_index(drop = True, inplace = True)\n",
    "\n",
    "tomato_12"
   ],
   "metadata": {
    "collapsed": false,
    "pycharm": {
     "name": "#%%\n"
    }
   }
  },
  {
   "cell_type": "code",
   "execution_count": 83,
   "outputs": [],
   "source": [
    "# SETTING X, y\n",
    "\n",
    "date = tomato_12['date']\n",
    "X = tomato_12.drop(['target', 'date'], axis = 1)\n",
    "y = tomato_12['target']\n",
    "\n",
    "def timesplit(X, y, train_size = 0.8):\n",
    "    n = len(y)\n",
    "    n_train = int(n * train_size)\n",
    "    X_train, X_holdout = X[:n_train], X[n_train:]\n",
    "    y_train, y_holdout = y[:n_train], y[n_train:]\n",
    "    return X_train, X_holdout, y_train, y_holdout\n",
    "\n",
    "X_train, X_test, y_train, y_test = timesplit(X, y)"
   ],
   "metadata": {
    "collapsed": false,
    "pycharm": {
     "name": "#%%\n"
    }
   }
  },
  {
   "cell_type": "code",
   "execution_count": 84,
   "outputs": [],
   "source": [
    "# https://github.com/jamesdj/tobit/\n",
    "\n",
    "import math\n",
    "import warnings\n",
    "\n",
    "import numpy as np\n",
    "import pandas as pd\n",
    "from scipy.optimize import minimize\n",
    "import scipy.stats\n",
    "from scipy.special import log_ndtr\n",
    "from sklearn.linear_model import LinearRegression\n",
    "from sklearn.metrics import mean_squared_error, mean_absolute_error\n",
    "\n",
    "\n",
    "def split_left_right_censored(x, y, cens):\n",
    "    counts = cens.value_counts()\n",
    "    if -1 not in counts and 1 not in counts:\n",
    "        warnings.warn(\"No censored observations; use regression methods for uncensored data\")\n",
    "    xs = []\n",
    "    ys = []\n",
    "\n",
    "    for value in [-1, 0, 1]:\n",
    "        if value in counts:\n",
    "            split = cens == value\n",
    "            y_split = np.squeeze(y[split].values)\n",
    "            x_split = x[split].values\n",
    "\n",
    "        else:\n",
    "            y_split, x_split = None, None\n",
    "        xs.append(x_split)\n",
    "        ys.append(y_split)\n",
    "    return xs, ys\n",
    "\n",
    "\n",
    "def tobit_neg_log_likelihood(xs, ys, params):\n",
    "    x_left, x_mid, x_right = xs\n",
    "    y_left, y_mid, y_right = ys\n",
    "\n",
    "    b = params[:-1]\n",
    "    # s = math.exp(params[-1])\n",
    "    s = params[-1]\n",
    "\n",
    "    to_cat = []\n",
    "\n",
    "    cens = False\n",
    "    if y_left is not None:\n",
    "        cens = True\n",
    "        left = (y_left - np.dot(x_left, b))\n",
    "        to_cat.append(left)\n",
    "    if y_right is not None:\n",
    "        cens = True\n",
    "        right = (np.dot(x_right, b) - y_right)\n",
    "        to_cat.append(right)\n",
    "    if cens:\n",
    "        concat_stats = np.concatenate(to_cat, axis=0) / s\n",
    "        log_cum_norm = scipy.stats.norm.logcdf(concat_stats)  # log_ndtr(concat_stats)\n",
    "        cens_sum = log_cum_norm.sum()\n",
    "    else:\n",
    "        cens_sum = 0\n",
    "\n",
    "    if y_mid is not None:\n",
    "        mid_stats = (y_mid - np.dot(x_mid, b)) / s\n",
    "        mid = scipy.stats.norm.logpdf(mid_stats) - math.log(max(np.finfo('float').resolution, s))\n",
    "        mid_sum = mid.sum()\n",
    "    else:\n",
    "        mid_sum = 0\n",
    "\n",
    "    loglik = cens_sum + mid_sum\n",
    "\n",
    "    return - loglik\n",
    "\n",
    "\n",
    "def tobit_neg_log_likelihood_der(xs, ys, params):\n",
    "    x_left, x_mid, x_right = xs\n",
    "    y_left, y_mid, y_right = ys\n",
    "\n",
    "    b = params[:-1]\n",
    "    # s = math.exp(params[-1]) # in censReg, not using chain rule as below; they optimize in terms of log(s)\n",
    "    s = params[-1]\n",
    "\n",
    "    beta_jac = np.zeros(len(b))\n",
    "    sigma_jac = 0\n",
    "\n",
    "    if y_left is not None:\n",
    "        left_stats = (y_left - np.dot(x_left, b)) / s\n",
    "        l_pdf = scipy.stats.norm.logpdf(left_stats)\n",
    "        l_cdf = log_ndtr(left_stats)\n",
    "        left_frac = np.exp(l_pdf - l_cdf)\n",
    "        beta_left = np.dot(left_frac, x_left / s)\n",
    "        beta_jac -= beta_left\n",
    "\n",
    "        left_sigma = np.dot(left_frac, left_stats)\n",
    "        sigma_jac -= left_sigma\n",
    "\n",
    "    if y_right is not None:\n",
    "        right_stats = (np.dot(x_right, b) - y_right) / s\n",
    "        r_pdf = scipy.stats.norm.logpdf(right_stats)\n",
    "        r_cdf = log_ndtr(right_stats)\n",
    "        right_frac = np.exp(r_pdf - r_cdf)\n",
    "        beta_right = np.dot(right_frac, x_right / s)\n",
    "        beta_jac += beta_right\n",
    "\n",
    "        right_sigma = np.dot(right_frac, right_stats)\n",
    "        sigma_jac -= right_sigma\n",
    "\n",
    "    if y_mid is not None:\n",
    "        mid_stats = (y_mid - np.dot(x_mid, b)) / s\n",
    "        beta_mid = np.dot(mid_stats, x_mid / s)\n",
    "        beta_jac += beta_mid\n",
    "\n",
    "        mid_sigma = (np.square(mid_stats) - 1).sum()\n",
    "        sigma_jac += mid_sigma\n",
    "\n",
    "    combo_jac = np.append(beta_jac, sigma_jac / s)  # by chain rule, since the expression above is dloglik/dlogsigma\n",
    "\n",
    "    return -combo_jac\n",
    "\n",
    "\n",
    "class TobitModel:\n",
    "    def __init__(self, fit_intercept=True):\n",
    "        self.fit_intercept = fit_intercept\n",
    "        self.ols_coef_ = None\n",
    "        self.ols_intercept = None\n",
    "        self.coef_ = None\n",
    "        self.intercept_ = None\n",
    "        self.sigma_ = None\n",
    "\n",
    "    def fit(self, x, y, cens, verbose=False):\n",
    "        \"\"\"\n",
    "        Fit a maximum-likelihood Tobit regression\n",
    "        :param x: Pandas DataFrame (n_samples, n_features): Data\n",
    "        :param y: Pandas Series (n_samples,): Target\n",
    "        :param cens: Pandas Series (n_samples,): -1 indicates left-censored samples, 0 for uncensored, 1 for right-censored\n",
    "        :param verbose: boolean, show info from minimization\n",
    "        :return:\n",
    "        \"\"\"\n",
    "        x_copy = x.copy()\n",
    "        if self.fit_intercept:\n",
    "            x_copy.insert(0, 'intercept', 1.0)\n",
    "        else:\n",
    "            x_copy.scale(with_mean=True, with_std=False, copy=False)\n",
    "        init_reg = LinearRegression(fit_intercept=False).fit(x_copy, y)\n",
    "        b0 = init_reg.coef_\n",
    "        y_pred = init_reg.predict(x_copy)\n",
    "        resid = y - y_pred\n",
    "        resid_var = np.var(resid)\n",
    "        s0 = np.sqrt(resid_var)\n",
    "        params0 = np.append(b0, s0)\n",
    "        xs, ys = split_left_right_censored(x_copy, y, cens)\n",
    "\n",
    "        result = minimize(lambda params: tobit_neg_log_likelihood(xs, ys, params), params0, method='BFGS',\n",
    "                          jac=lambda params: tobit_neg_log_likelihood_der(xs, ys, params), options={'disp': verbose})\n",
    "        if verbose:\n",
    "            print(result)\n",
    "        self.ols_coef_ = b0[1:]\n",
    "        self.ols_intercept = b0[0]\n",
    "        if self.fit_intercept:\n",
    "            self.intercept_ = result.x[1]\n",
    "            self.coef_ = result.x[1:-1]\n",
    "        else:\n",
    "            self.coef_ = result.x[:-1]\n",
    "            self.intercept_ = 0\n",
    "        self.sigma_ = result.x[-1]\n",
    "        return self\n",
    "\n",
    "    def predict(self, x):\n",
    "        return self.intercept_ + np.dot(x, self.coef_)\n",
    "\n",
    "    def score(self, x, y, scoring_function=mean_absolute_error):\n",
    "        y_pred = np.dot(x, self.coef_)\n",
    "        return scoring_function(y, y_pred)"
   ],
   "metadata": {
    "collapsed": false,
    "pycharm": {
     "name": "#%%\n"
    }
   }
  },
  {
   "cell_type": "code",
   "execution_count": 88,
   "outputs": [
    {
     "data": {
      "text/plain": "0       True\n1       True\n2       True\n3       True\n4       True\n        ... \n1735    True\n1736     1.0\n1737    True\n1738    True\n1739    True\nName: target, Length: 1740, dtype: object"
     },
     "execution_count": 88,
     "metadata": {},
     "output_type": "execute_result"
    }
   ],
   "source": [
    "y_train_clip"
   ],
   "metadata": {
    "collapsed": false,
    "pycharm": {
     "name": "#%%\n"
    }
   }
  },
  {
   "cell_type": "code",
   "execution_count": 85,
   "outputs": [
    {
     "data": {
      "text/plain": "0       0.0\n1       0.0\n2       0.0\n3       0.0\n4       0.0\n       ... \n2170    1.0\n2171    0.0\n2172    1.0\n2173    0.0\n2174    2.0\nName: target, Length: 2175, dtype: float64"
     },
     "execution_count": 85,
     "metadata": {},
     "output_type": "execute_result"
    }
   ],
   "source": [
    "cens_train = pd.Series(np.zeros((len(y_train),)))\n",
    "cens_train[y <= 0] = -1\n",
    "# cens_train[y > 0] = 1   # ?\n",
    "cens_train\n",
    "\n",
    "y_train_clip = y_train.clip(upper= y < 1000, lower= y <= 0)\n",
    "y"
   ],
   "metadata": {
    "collapsed": false,
    "pycharm": {
     "name": "#%%\n"
    }
   }
  },
  {
   "cell_type": "code",
   "execution_count": 86,
   "outputs": [
    {
     "ename": "TypeError",
     "evalue": "ufunc 'isnan' not supported for the input types, and the inputs could not be safely coerced to any supported types according to the casting rule ''safe''",
     "output_type": "error",
     "traceback": [
      "\u001B[1;31m---------------------------------------------------------------------------\u001B[0m",
      "\u001B[1;31mTypeError\u001B[0m                                 Traceback (most recent call last)",
      "\u001B[1;32mC:\\Users\\4918~1\\AppData\\Local\\Temp/ipykernel_13440/2348610793.py\u001B[0m in \u001B[0;36m<module>\u001B[1;34m\u001B[0m\n\u001B[1;32m----> 1\u001B[1;33m \u001B[0mtobit_res\u001B[0m \u001B[1;33m=\u001B[0m \u001B[0mTobitModel\u001B[0m\u001B[1;33m(\u001B[0m\u001B[1;33m)\u001B[0m\u001B[1;33m.\u001B[0m\u001B[0mfit\u001B[0m\u001B[1;33m(\u001B[0m\u001B[0mx\u001B[0m \u001B[1;33m=\u001B[0m \u001B[0mX_train\u001B[0m\u001B[1;33m,\u001B[0m \u001B[0my\u001B[0m \u001B[1;33m=\u001B[0m \u001B[0my_train_clip\u001B[0m\u001B[1;33m,\u001B[0m \u001B[0mcens\u001B[0m \u001B[1;33m=\u001B[0m \u001B[0mcens_train\u001B[0m\u001B[1;33m,\u001B[0m \u001B[0mverbose\u001B[0m \u001B[1;33m=\u001B[0m \u001B[1;32mFalse\u001B[0m\u001B[1;33m)\u001B[0m\u001B[1;33m\u001B[0m\u001B[1;33m\u001B[0m\u001B[0m\n\u001B[0m",
      "\u001B[1;32mC:\\Users\\4918~1\\AppData\\Local\\Temp/ipykernel_13440/1729541372.py\u001B[0m in \u001B[0;36mfit\u001B[1;34m(self, x, y, cens, verbose)\u001B[0m\n\u001B[0;32m    149\u001B[0m         \u001B[0mxs\u001B[0m\u001B[1;33m,\u001B[0m \u001B[0mys\u001B[0m \u001B[1;33m=\u001B[0m \u001B[0msplit_left_right_censored\u001B[0m\u001B[1;33m(\u001B[0m\u001B[0mx_copy\u001B[0m\u001B[1;33m,\u001B[0m \u001B[0my\u001B[0m\u001B[1;33m,\u001B[0m \u001B[0mcens\u001B[0m\u001B[1;33m)\u001B[0m\u001B[1;33m\u001B[0m\u001B[1;33m\u001B[0m\u001B[0m\n\u001B[0;32m    150\u001B[0m \u001B[1;33m\u001B[0m\u001B[0m\n\u001B[1;32m--> 151\u001B[1;33m         result = minimize(lambda params: tobit_neg_log_likelihood(xs, ys, params), params0, method='BFGS',\n\u001B[0m\u001B[0;32m    152\u001B[0m                           jac=lambda params: tobit_neg_log_likelihood_der(xs, ys, params), options={'disp': verbose})\n\u001B[0;32m    153\u001B[0m         \u001B[1;32mif\u001B[0m \u001B[0mverbose\u001B[0m\u001B[1;33m:\u001B[0m\u001B[1;33m\u001B[0m\u001B[1;33m\u001B[0m\u001B[0m\n",
      "\u001B[1;32m~\\AppData\\Local\\Programs\\Python\\Python310\\lib\\site-packages\\scipy\\optimize\\_minimize.py\u001B[0m in \u001B[0;36mminimize\u001B[1;34m(fun, x0, args, method, jac, hess, hessp, bounds, constraints, tol, callback, options)\u001B[0m\n\u001B[0;32m    616\u001B[0m         \u001B[1;32mreturn\u001B[0m \u001B[0m_minimize_cg\u001B[0m\u001B[1;33m(\u001B[0m\u001B[0mfun\u001B[0m\u001B[1;33m,\u001B[0m \u001B[0mx0\u001B[0m\u001B[1;33m,\u001B[0m \u001B[0margs\u001B[0m\u001B[1;33m,\u001B[0m \u001B[0mjac\u001B[0m\u001B[1;33m,\u001B[0m \u001B[0mcallback\u001B[0m\u001B[1;33m,\u001B[0m \u001B[1;33m**\u001B[0m\u001B[0moptions\u001B[0m\u001B[1;33m)\u001B[0m\u001B[1;33m\u001B[0m\u001B[1;33m\u001B[0m\u001B[0m\n\u001B[0;32m    617\u001B[0m     \u001B[1;32melif\u001B[0m \u001B[0mmeth\u001B[0m \u001B[1;33m==\u001B[0m \u001B[1;34m'bfgs'\u001B[0m\u001B[1;33m:\u001B[0m\u001B[1;33m\u001B[0m\u001B[1;33m\u001B[0m\u001B[0m\n\u001B[1;32m--> 618\u001B[1;33m         \u001B[1;32mreturn\u001B[0m \u001B[0m_minimize_bfgs\u001B[0m\u001B[1;33m(\u001B[0m\u001B[0mfun\u001B[0m\u001B[1;33m,\u001B[0m \u001B[0mx0\u001B[0m\u001B[1;33m,\u001B[0m \u001B[0margs\u001B[0m\u001B[1;33m,\u001B[0m \u001B[0mjac\u001B[0m\u001B[1;33m,\u001B[0m \u001B[0mcallback\u001B[0m\u001B[1;33m,\u001B[0m \u001B[1;33m**\u001B[0m\u001B[0moptions\u001B[0m\u001B[1;33m)\u001B[0m\u001B[1;33m\u001B[0m\u001B[1;33m\u001B[0m\u001B[0m\n\u001B[0m\u001B[0;32m    619\u001B[0m     \u001B[1;32melif\u001B[0m \u001B[0mmeth\u001B[0m \u001B[1;33m==\u001B[0m \u001B[1;34m'newton-cg'\u001B[0m\u001B[1;33m:\u001B[0m\u001B[1;33m\u001B[0m\u001B[1;33m\u001B[0m\u001B[0m\n\u001B[0;32m    620\u001B[0m         return _minimize_newtoncg(fun, x0, args, jac, hess, hessp, callback,\n",
      "\u001B[1;32m~\\AppData\\Local\\Programs\\Python\\Python310\\lib\\site-packages\\scipy\\optimize\\optimize.py\u001B[0m in \u001B[0;36m_minimize_bfgs\u001B[1;34m(fun, x0, args, jac, callback, gtol, norm, eps, maxiter, disp, return_all, finite_diff_rel_step, **unknown_options)\u001B[0m\n\u001B[0;32m   1199\u001B[0m         \u001B[0mmaxiter\u001B[0m \u001B[1;33m=\u001B[0m \u001B[0mlen\u001B[0m\u001B[1;33m(\u001B[0m\u001B[0mx0\u001B[0m\u001B[1;33m)\u001B[0m \u001B[1;33m*\u001B[0m \u001B[1;36m200\u001B[0m\u001B[1;33m\u001B[0m\u001B[1;33m\u001B[0m\u001B[0m\n\u001B[0;32m   1200\u001B[0m \u001B[1;33m\u001B[0m\u001B[0m\n\u001B[1;32m-> 1201\u001B[1;33m     sf = _prepare_scalar_function(fun, x0, jac, args=args, epsilon=eps,\n\u001B[0m\u001B[0;32m   1202\u001B[0m                                   finite_diff_rel_step=finite_diff_rel_step)\n\u001B[0;32m   1203\u001B[0m \u001B[1;33m\u001B[0m\u001B[0m\n",
      "\u001B[1;32m~\\AppData\\Local\\Programs\\Python\\Python310\\lib\\site-packages\\scipy\\optimize\\optimize.py\u001B[0m in \u001B[0;36m_prepare_scalar_function\u001B[1;34m(fun, x0, jac, args, bounds, epsilon, finite_diff_rel_step, hess)\u001B[0m\n\u001B[0;32m    259\u001B[0m     \u001B[1;31m# ScalarFunction caches. Reuse of fun(x) during grad\u001B[0m\u001B[1;33m\u001B[0m\u001B[1;33m\u001B[0m\u001B[0m\n\u001B[0;32m    260\u001B[0m     \u001B[1;31m# calculation reduces overall function evaluations.\u001B[0m\u001B[1;33m\u001B[0m\u001B[1;33m\u001B[0m\u001B[0m\n\u001B[1;32m--> 261\u001B[1;33m     sf = ScalarFunction(fun, x0, args, grad, hess,\n\u001B[0m\u001B[0;32m    262\u001B[0m                         finite_diff_rel_step, bounds, epsilon=epsilon)\n\u001B[0;32m    263\u001B[0m \u001B[1;33m\u001B[0m\u001B[0m\n",
      "\u001B[1;32m~\\AppData\\Local\\Programs\\Python\\Python310\\lib\\site-packages\\scipy\\optimize\\_differentiable_functions.py\u001B[0m in \u001B[0;36m__init__\u001B[1;34m(self, fun, x0, args, grad, hess, finite_diff_rel_step, finite_diff_bounds, epsilon)\u001B[0m\n\u001B[0;32m    138\u001B[0m \u001B[1;33m\u001B[0m\u001B[0m\n\u001B[0;32m    139\u001B[0m         \u001B[0mself\u001B[0m\u001B[1;33m.\u001B[0m\u001B[0m_update_fun_impl\u001B[0m \u001B[1;33m=\u001B[0m \u001B[0mupdate_fun\u001B[0m\u001B[1;33m\u001B[0m\u001B[1;33m\u001B[0m\u001B[0m\n\u001B[1;32m--> 140\u001B[1;33m         \u001B[0mself\u001B[0m\u001B[1;33m.\u001B[0m\u001B[0m_update_fun\u001B[0m\u001B[1;33m(\u001B[0m\u001B[1;33m)\u001B[0m\u001B[1;33m\u001B[0m\u001B[1;33m\u001B[0m\u001B[0m\n\u001B[0m\u001B[0;32m    141\u001B[0m \u001B[1;33m\u001B[0m\u001B[0m\n\u001B[0;32m    142\u001B[0m         \u001B[1;31m# Gradient evaluation\u001B[0m\u001B[1;33m\u001B[0m\u001B[1;33m\u001B[0m\u001B[0m\n",
      "\u001B[1;32m~\\AppData\\Local\\Programs\\Python\\Python310\\lib\\site-packages\\scipy\\optimize\\_differentiable_functions.py\u001B[0m in \u001B[0;36m_update_fun\u001B[1;34m(self)\u001B[0m\n\u001B[0;32m    231\u001B[0m     \u001B[1;32mdef\u001B[0m \u001B[0m_update_fun\u001B[0m\u001B[1;33m(\u001B[0m\u001B[0mself\u001B[0m\u001B[1;33m)\u001B[0m\u001B[1;33m:\u001B[0m\u001B[1;33m\u001B[0m\u001B[1;33m\u001B[0m\u001B[0m\n\u001B[0;32m    232\u001B[0m         \u001B[1;32mif\u001B[0m \u001B[1;32mnot\u001B[0m \u001B[0mself\u001B[0m\u001B[1;33m.\u001B[0m\u001B[0mf_updated\u001B[0m\u001B[1;33m:\u001B[0m\u001B[1;33m\u001B[0m\u001B[1;33m\u001B[0m\u001B[0m\n\u001B[1;32m--> 233\u001B[1;33m             \u001B[0mself\u001B[0m\u001B[1;33m.\u001B[0m\u001B[0m_update_fun_impl\u001B[0m\u001B[1;33m(\u001B[0m\u001B[1;33m)\u001B[0m\u001B[1;33m\u001B[0m\u001B[1;33m\u001B[0m\u001B[0m\n\u001B[0m\u001B[0;32m    234\u001B[0m             \u001B[0mself\u001B[0m\u001B[1;33m.\u001B[0m\u001B[0mf_updated\u001B[0m \u001B[1;33m=\u001B[0m \u001B[1;32mTrue\u001B[0m\u001B[1;33m\u001B[0m\u001B[1;33m\u001B[0m\u001B[0m\n\u001B[0;32m    235\u001B[0m \u001B[1;33m\u001B[0m\u001B[0m\n",
      "\u001B[1;32m~\\AppData\\Local\\Programs\\Python\\Python310\\lib\\site-packages\\scipy\\optimize\\_differentiable_functions.py\u001B[0m in \u001B[0;36mupdate_fun\u001B[1;34m()\u001B[0m\n\u001B[0;32m    135\u001B[0m \u001B[1;33m\u001B[0m\u001B[0m\n\u001B[0;32m    136\u001B[0m         \u001B[1;32mdef\u001B[0m \u001B[0mupdate_fun\u001B[0m\u001B[1;33m(\u001B[0m\u001B[1;33m)\u001B[0m\u001B[1;33m:\u001B[0m\u001B[1;33m\u001B[0m\u001B[1;33m\u001B[0m\u001B[0m\n\u001B[1;32m--> 137\u001B[1;33m             \u001B[0mself\u001B[0m\u001B[1;33m.\u001B[0m\u001B[0mf\u001B[0m \u001B[1;33m=\u001B[0m \u001B[0mfun_wrapped\u001B[0m\u001B[1;33m(\u001B[0m\u001B[0mself\u001B[0m\u001B[1;33m.\u001B[0m\u001B[0mx\u001B[0m\u001B[1;33m)\u001B[0m\u001B[1;33m\u001B[0m\u001B[1;33m\u001B[0m\u001B[0m\n\u001B[0m\u001B[0;32m    138\u001B[0m \u001B[1;33m\u001B[0m\u001B[0m\n\u001B[0;32m    139\u001B[0m         \u001B[0mself\u001B[0m\u001B[1;33m.\u001B[0m\u001B[0m_update_fun_impl\u001B[0m \u001B[1;33m=\u001B[0m \u001B[0mupdate_fun\u001B[0m\u001B[1;33m\u001B[0m\u001B[1;33m\u001B[0m\u001B[0m\n",
      "\u001B[1;32m~\\AppData\\Local\\Programs\\Python\\Python310\\lib\\site-packages\\scipy\\optimize\\_differentiable_functions.py\u001B[0m in \u001B[0;36mfun_wrapped\u001B[1;34m(x)\u001B[0m\n\u001B[0;32m    132\u001B[0m             \u001B[1;31m# Overwriting results in undefined behaviour because\u001B[0m\u001B[1;33m\u001B[0m\u001B[1;33m\u001B[0m\u001B[0m\n\u001B[0;32m    133\u001B[0m             \u001B[1;31m# fun(self.x) will change self.x, with the two no longer linked.\u001B[0m\u001B[1;33m\u001B[0m\u001B[1;33m\u001B[0m\u001B[0m\n\u001B[1;32m--> 134\u001B[1;33m             \u001B[1;32mreturn\u001B[0m \u001B[0mfun\u001B[0m\u001B[1;33m(\u001B[0m\u001B[0mnp\u001B[0m\u001B[1;33m.\u001B[0m\u001B[0mcopy\u001B[0m\u001B[1;33m(\u001B[0m\u001B[0mx\u001B[0m\u001B[1;33m)\u001B[0m\u001B[1;33m,\u001B[0m \u001B[1;33m*\u001B[0m\u001B[0margs\u001B[0m\u001B[1;33m)\u001B[0m\u001B[1;33m\u001B[0m\u001B[1;33m\u001B[0m\u001B[0m\n\u001B[0m\u001B[0;32m    135\u001B[0m \u001B[1;33m\u001B[0m\u001B[0m\n\u001B[0;32m    136\u001B[0m         \u001B[1;32mdef\u001B[0m \u001B[0mupdate_fun\u001B[0m\u001B[1;33m(\u001B[0m\u001B[1;33m)\u001B[0m\u001B[1;33m:\u001B[0m\u001B[1;33m\u001B[0m\u001B[1;33m\u001B[0m\u001B[0m\n",
      "\u001B[1;32mC:\\Users\\4918~1\\AppData\\Local\\Temp/ipykernel_13440/1729541372.py\u001B[0m in \u001B[0;36m<lambda>\u001B[1;34m(params)\u001B[0m\n\u001B[0;32m    149\u001B[0m         \u001B[0mxs\u001B[0m\u001B[1;33m,\u001B[0m \u001B[0mys\u001B[0m \u001B[1;33m=\u001B[0m \u001B[0msplit_left_right_censored\u001B[0m\u001B[1;33m(\u001B[0m\u001B[0mx_copy\u001B[0m\u001B[1;33m,\u001B[0m \u001B[0my\u001B[0m\u001B[1;33m,\u001B[0m \u001B[0mcens\u001B[0m\u001B[1;33m)\u001B[0m\u001B[1;33m\u001B[0m\u001B[1;33m\u001B[0m\u001B[0m\n\u001B[0;32m    150\u001B[0m \u001B[1;33m\u001B[0m\u001B[0m\n\u001B[1;32m--> 151\u001B[1;33m         result = minimize(lambda params: tobit_neg_log_likelihood(xs, ys, params), params0, method='BFGS',\n\u001B[0m\u001B[0;32m    152\u001B[0m                           jac=lambda params: tobit_neg_log_likelihood_der(xs, ys, params), options={'disp': verbose})\n\u001B[0;32m    153\u001B[0m         \u001B[1;32mif\u001B[0m \u001B[0mverbose\u001B[0m\u001B[1;33m:\u001B[0m\u001B[1;33m\u001B[0m\u001B[1;33m\u001B[0m\u001B[0m\n",
      "\u001B[1;32mC:\\Users\\4918~1\\AppData\\Local\\Temp/ipykernel_13440/1729541372.py\u001B[0m in \u001B[0;36mtobit_neg_log_likelihood\u001B[1;34m(xs, ys, params)\u001B[0m\n\u001B[0;32m     54\u001B[0m     \u001B[1;32mif\u001B[0m \u001B[0mcens\u001B[0m\u001B[1;33m:\u001B[0m\u001B[1;33m\u001B[0m\u001B[1;33m\u001B[0m\u001B[0m\n\u001B[0;32m     55\u001B[0m         \u001B[0mconcat_stats\u001B[0m \u001B[1;33m=\u001B[0m \u001B[0mnp\u001B[0m\u001B[1;33m.\u001B[0m\u001B[0mconcatenate\u001B[0m\u001B[1;33m(\u001B[0m\u001B[0mto_cat\u001B[0m\u001B[1;33m,\u001B[0m \u001B[0maxis\u001B[0m\u001B[1;33m=\u001B[0m\u001B[1;36m0\u001B[0m\u001B[1;33m)\u001B[0m \u001B[1;33m/\u001B[0m \u001B[0ms\u001B[0m\u001B[1;33m\u001B[0m\u001B[1;33m\u001B[0m\u001B[0m\n\u001B[1;32m---> 56\u001B[1;33m         \u001B[0mlog_cum_norm\u001B[0m \u001B[1;33m=\u001B[0m \u001B[0mscipy\u001B[0m\u001B[1;33m.\u001B[0m\u001B[0mstats\u001B[0m\u001B[1;33m.\u001B[0m\u001B[0mnorm\u001B[0m\u001B[1;33m.\u001B[0m\u001B[0mlogcdf\u001B[0m\u001B[1;33m(\u001B[0m\u001B[0mconcat_stats\u001B[0m\u001B[1;33m)\u001B[0m  \u001B[1;31m# log_ndtr(concat_stats)\u001B[0m\u001B[1;33m\u001B[0m\u001B[1;33m\u001B[0m\u001B[0m\n\u001B[0m\u001B[0;32m     57\u001B[0m         \u001B[0mcens_sum\u001B[0m \u001B[1;33m=\u001B[0m \u001B[0mlog_cum_norm\u001B[0m\u001B[1;33m.\u001B[0m\u001B[0msum\u001B[0m\u001B[1;33m(\u001B[0m\u001B[1;33m)\u001B[0m\u001B[1;33m\u001B[0m\u001B[1;33m\u001B[0m\u001B[0m\n\u001B[0;32m     58\u001B[0m     \u001B[1;32melse\u001B[0m\u001B[1;33m:\u001B[0m\u001B[1;33m\u001B[0m\u001B[1;33m\u001B[0m\u001B[0m\n",
      "\u001B[1;32m~\\AppData\\Local\\Programs\\Python\\Python310\\lib\\site-packages\\scipy\\stats\\_distn_infrastructure.py\u001B[0m in \u001B[0;36mlogcdf\u001B[1;34m(self, x, *args, **kwds)\u001B[0m\n\u001B[0;32m   1999\u001B[0m         \u001B[0moutput\u001B[0m \u001B[1;33m=\u001B[0m \u001B[0mempty\u001B[0m\u001B[1;33m(\u001B[0m\u001B[0mshape\u001B[0m\u001B[1;33m(\u001B[0m\u001B[0mcond\u001B[0m\u001B[1;33m)\u001B[0m\u001B[1;33m,\u001B[0m \u001B[0mdtyp\u001B[0m\u001B[1;33m)\u001B[0m\u001B[1;33m\u001B[0m\u001B[1;33m\u001B[0m\u001B[0m\n\u001B[0;32m   2000\u001B[0m         \u001B[0moutput\u001B[0m\u001B[1;33m.\u001B[0m\u001B[0mfill\u001B[0m\u001B[1;33m(\u001B[0m\u001B[0mNINF\u001B[0m\u001B[1;33m)\u001B[0m\u001B[1;33m\u001B[0m\u001B[1;33m\u001B[0m\u001B[0m\n\u001B[1;32m-> 2001\u001B[1;33m         \u001B[0mplace\u001B[0m\u001B[1;33m(\u001B[0m\u001B[0moutput\u001B[0m\u001B[1;33m,\u001B[0m \u001B[1;33m(\u001B[0m\u001B[1;36m1\u001B[0m\u001B[1;33m-\u001B[0m\u001B[0mcond0\u001B[0m\u001B[1;33m)\u001B[0m\u001B[1;33m*\u001B[0m\u001B[1;33m(\u001B[0m\u001B[0mcond1\u001B[0m \u001B[1;33m==\u001B[0m \u001B[0mcond1\u001B[0m\u001B[1;33m)\u001B[0m\u001B[1;33m+\u001B[0m\u001B[0mnp\u001B[0m\u001B[1;33m.\u001B[0m\u001B[0misnan\u001B[0m\u001B[1;33m(\u001B[0m\u001B[0mx\u001B[0m\u001B[1;33m)\u001B[0m\u001B[1;33m,\u001B[0m \u001B[0mself\u001B[0m\u001B[1;33m.\u001B[0m\u001B[0mbadvalue\u001B[0m\u001B[1;33m)\u001B[0m\u001B[1;33m\u001B[0m\u001B[1;33m\u001B[0m\u001B[0m\n\u001B[0m\u001B[0;32m   2002\u001B[0m         \u001B[0mplace\u001B[0m\u001B[1;33m(\u001B[0m\u001B[0moutput\u001B[0m\u001B[1;33m,\u001B[0m \u001B[0mcond2\u001B[0m\u001B[1;33m,\u001B[0m \u001B[1;36m0.0\u001B[0m\u001B[1;33m)\u001B[0m\u001B[1;33m\u001B[0m\u001B[1;33m\u001B[0m\u001B[0m\n\u001B[0;32m   2003\u001B[0m         \u001B[1;32mif\u001B[0m \u001B[0mnp\u001B[0m\u001B[1;33m.\u001B[0m\u001B[0many\u001B[0m\u001B[1;33m(\u001B[0m\u001B[0mcond\u001B[0m\u001B[1;33m)\u001B[0m\u001B[1;33m:\u001B[0m  \u001B[1;31m# call only if at least 1 entry\u001B[0m\u001B[1;33m\u001B[0m\u001B[1;33m\u001B[0m\u001B[0m\n",
      "\u001B[1;31mTypeError\u001B[0m: ufunc 'isnan' not supported for the input types, and the inputs could not be safely coerced to any supported types according to the casting rule ''safe''"
     ]
    }
   ],
   "source": [
    "tobit_res = TobitModel().fit(x = X_train, y = y_train_clip, cens = cens_train, verbose = False)"
   ],
   "metadata": {
    "collapsed": false,
    "pycharm": {
     "name": "#%%\n"
    }
   }
  },
  {
   "cell_type": "code",
   "execution_count": 54,
   "outputs": [
    {
     "data": {
      "text/plain": "array([-5602.73601445, -5602.9714213 , -5604.08688054, -5605.47507735,\n       -5607.08217272, -5606.1048325 , -5601.23764608, -5602.87101978,\n       -5602.52330069, -5603.38131744, -5606.20557189, -5609.81656826,\n       -5602.01281858, -5605.01464223, -5605.39970789, -5605.62337732,\n       -5603.67506821, -5604.77768345, -5606.02969785, -5606.73840443,\n       -5607.90258693, -5606.19985001, -5607.45072945, -5607.77744858,\n       -5605.987053  , -5605.94071518, -5603.06019954, -5603.69508018,\n       -5605.8283252 , -5603.6914532 , -5604.36451938, -5604.70804942,\n       -5605.52368695, -5605.71624143, -5604.36862645, -5606.51625553,\n       -5608.49369062, -5607.72839437, -5606.95932091, -5608.59455176,\n       -5606.91459274, -5604.50278106, -5607.24132054, -5607.30834937,\n       -5607.60172599, -5608.09264673, -5609.2509945 , -5610.15699722,\n       -5610.14868498, -5610.3312102 , -5611.90950209, -5611.37230097,\n       -5609.80795684, -5609.06326976, -5610.41110286, -5610.61000146,\n       -5605.00766398, -5608.64412744, -5608.49030645, -5607.81049509,\n       -5607.42219813, -5605.60688044, -5608.43368981, -5607.27461205,\n       -5608.64160363, -5609.80138604, -5606.5007446 , -5604.61957433,\n       -5605.92384063, -5606.43483612, -5608.6461468 , -5613.07342997,\n       -5618.33826692, -5614.66410836, -5619.90248966, -5619.50644232,\n       -5619.40336422, -5619.28807018, -5617.55516048, -5616.56277467,\n       -5617.65919495, -5618.29303234, -5617.83278517, -5618.35078214,\n       -5621.65760288, -5605.76274523, -5605.5224337 , -5603.00453823,\n       -5609.04036287, -5611.59090979, -5612.79109066, -5606.84066946,\n       -5612.96989999, -5612.02311051, -5608.92587602, -5609.92376165,\n       -5608.36863846, -5607.39710025, -5605.2835953 , -5609.98181272,\n       -5604.48084022, -5604.68919405, -5601.98166496, -5606.5543434 ,\n       -5597.80071213, -5604.53140847, -5606.88928211, -5608.56332104,\n       -5596.4201932 , -5606.65011237, -5605.09386659, -5608.75977243,\n       -5608.06350364, -5609.32589152, -5609.79562183, -5610.75557817,\n       -5611.56390874, -5608.91086133, -5616.84963025, -5605.00225074,\n       -5616.72999684, -5618.14437368, -5617.78653752, -5615.16628421,\n       -5615.76035725, -5614.67058641, -5614.8180182 , -5616.33223772,\n       -5616.77054001, -5614.94994522, -5617.35239197, -5618.15318587,\n       -5609.41693283, -5605.80992676, -5612.94067812, -5613.69209076,\n       -5609.91905353, -5616.74427348, -5609.30221273, -5608.44846845,\n       -5607.3000115 , -5610.36096266, -5607.92657602, -5607.05837159,\n       -5606.36122506, -5606.93732591, -5607.54776547, -5606.53377812,\n       -5603.73749553, -5604.621235  , -5603.45673938, -5602.59485856,\n       -5606.96240503, -5610.59177114, -5610.19727188, -5609.24506974,\n       -5610.77312821, -5609.7505452 , -5611.5812909 , -5606.2622168 ,\n       -5608.62323731, -5606.58233645, -5609.3335431 , -5608.94532997,\n       -5605.43135214, -5608.43437491, -5607.49263498, -5608.10795892,\n       -5605.66266877, -5607.29271625, -5608.26971824, -5608.90585989,\n       -5608.18927844, -5605.76055015, -5605.18587947, -5605.65217799,\n       -5606.82372895, -5610.46710517, -5607.53752693, -5609.93407371,\n       -5605.63607856, -5616.22089442, -5610.91771027, -5608.90798123,\n       -5612.66515018, -5614.79800372, -5609.693884  , -5616.39179568,\n       -5610.77922396, -5606.97749041, -5610.90270679, -5602.15535384,\n       -5607.09596972, -5605.89302675, -5606.91912554, -5607.79723643,\n       -5608.05944059, -5610.90580497, -5609.70663992, -5609.3940041 ,\n       -5609.9246623 , -5610.78495329, -5613.13472181, -5611.05278779,\n       -5613.0680499 , -5614.69292463, -5610.82013866, -5612.30465832,\n       -5609.59796902, -5610.12893909, -5608.44934793, -5607.51646317,\n       -5606.52958223, -5603.82354598, -5617.64895655, -5618.1191152 ,\n       -5616.00535675, -5614.37308166, -5608.88466779, -5611.63364675,\n       -5604.67137599, -5613.0639332 , -5613.84980072, -5617.78131601,\n       -5608.08491224, -5603.72881323, -5598.96148581, -5598.47592983,\n       -5594.32393198, -5594.48713351, -5600.11066819, -5600.50230942,\n       -5599.54559618, -5603.31197965, -5605.29728168, -5607.38100916,\n       -5610.5041044 , -5609.27630357, -5610.27190184, -5606.9739847 ,\n       -5608.59308301, -5609.99301948, -5610.13297016, -5611.53383611,\n       -5615.00633215, -5614.7358412 , -5614.48931097, -5615.96923355,\n       -5612.73850824, -5613.38242306, -5609.65947121, -5614.1550987 ,\n       -5611.73750335, -5615.48211944, -5613.87981444, -5610.11808562,\n       -5611.76300704, -5613.22601369, -5609.77232772, -5610.71794002,\n       -5610.92546181, -5605.53981055, -5605.67889334, -5607.07460578,\n       -5605.36597098, -5608.47791496, -5605.257357  , -5603.7527777 ,\n       -5600.94484348, -5598.40922476, -5601.83037524, -5600.06544197,\n       -5602.36091759, -5601.97888416, -5601.3101077 , -5605.45606198,\n       -5606.54186978, -5604.09487864, -5602.67353787, -5603.88183637,\n       -5606.62904097, -5606.8919931 , -5605.40490204, -5610.33660996,\n       -5606.72987728, -5605.10457718, -5605.49152874, -5604.91843512,\n       -5605.80879379, -5605.02575892, -5604.63320272, -5605.12412756,\n       -5602.61627584, -5604.55800678, -5606.46088459, -5605.39735599,\n       -5605.2463512 , -5608.09863467, -5606.59307592, -5605.73211814,\n       -5607.99132244, -5608.63075726, -5612.06806944, -5610.61015976,\n       -5610.46114761, -5609.76119125, -5611.42159546, -5610.24164841,\n       -5607.62965474, -5606.94184667, -5609.00991919, -5606.94546227,\n       -5605.82544171, -5604.14443317, -5606.59101426, -5605.46264571,\n       -5604.95847243, -5605.77291783, -5600.23007649, -5607.36726515,\n       -5611.96975139, -5608.31191702, -5607.90615042, -5608.49476327,\n       -5607.40444472, -5607.11768935, -5607.87871246, -5610.16290994,\n       -5610.36859079, -5606.71345852, -5609.89650674, -5611.68847223,\n       -5610.36589898, -5610.24043907, -5607.96405015, -5607.53012581,\n       -5612.11046365, -5607.94152069, -5610.13489973, -5606.64770788,\n       -5610.22902101, -5607.13934374, -5608.76936401, -5610.16490221,\n       -5604.20436144, -5605.00599718, -5603.45168137, -5605.19311827,\n       -5606.39777929, -5606.19425992, -5609.5806301 , -5610.22118145,\n       -5609.61354214, -5613.39248288, -5609.30583426, -5608.95577475,\n       -5610.07990119, -5612.98975608, -5619.87305923, -5621.24329993,\n       -5616.29193354, -5619.94772707, -5616.10459476, -5615.08379387,\n       -5616.22124505, -5615.99475324, -5615.52771604, -5612.94890535,\n       -5613.31314175, -5612.77379304, -5611.93673604, -5606.49494931,\n       -5603.08001331, -5602.37813328, -5601.96672073, -5604.12508915,\n       -5608.69066617, -5610.87398087, -5609.42270929, -5609.75612915,\n       -5611.4410709 , -5610.02995853, -5611.25397681, -5610.91873215,\n       -5609.12332668, -5613.97195345, -5616.64019786, -5617.02674114,\n       -5618.28824303, -5615.86567036, -5612.61491485, -5613.11275438,\n       -5615.06509004, -5613.82723559, -5615.95208931, -5616.9387814 ,\n       -5612.59467368, -5614.96823173, -5616.1431266 , -5611.00099797,\n       -5610.4469576 , -5614.6906938 , -5611.06377263, -5615.78003508,\n       -5616.62632566, -5618.15538881, -5617.14596725, -5610.30753313,\n       -5609.69915539, -5609.1960541 , -5608.06644595, -5609.81735766,\n       -5603.94743204, -5606.8029476 , -5606.39131369, -5606.21201421,\n       -5609.00312943, -5607.60177561, -5603.10981391, -5603.83903883,\n       -5606.47952183, -5607.44889678, -5606.836692  , -5602.9139114 ,\n       -5603.04883214, -5599.93445499, -5602.88374165, -5612.89400564,\n       -5620.94834326, -5617.00126455, -5619.77222279, -5616.48424104,\n       -5612.81115283, -5622.63618939, -5617.72912441])"
     },
     "execution_count": 54,
     "metadata": {},
     "output_type": "execute_result"
    }
   ],
   "source": [
    "tobit_res.predict(X_test)"
   ],
   "metadata": {
    "collapsed": false,
    "pycharm": {
     "name": "#%%\n"
    }
   }
  },
  {
   "cell_type": "code",
   "execution_count": 89,
   "outputs": [
    {
     "data": {
      "text/plain": "<Figure size 432x288 with 1 Axes>",
      "image/png": "[encoded data removed]"
     },
     "metadata": {
      "needs_background": "light"
     },
     "output_type": "display_data"
    }
   ],
   "source": [
    "%load_ext autoreload\n",
    "%autoreload 2\n",
    "%matplotlib inline\n",
    "\n",
    "from sklearn.datasets import make_regression\n",
    "import matplotlib.pyplot as plt\n",
    "import pandas as pd\n",
    "\n",
    "rs = np.random.RandomState(seed=10)\n",
    "ns = 100\n",
    "nf = 10\n",
    "x, y_orig, coef = make_regression(n_samples=ns, n_features=nf, coef=True, noise=0.0, random_state=rs)\n",
    "x = pd.DataFrame(x)\n",
    "y = pd.Series(y_orig)\n",
    "\n",
    "n_quantiles = 3 # two-thirds of the data is truncated\n",
    "quantile = 100/float(n_quantiles)\n",
    "lower = np.percentile(y, quantile)\n",
    "upper = np.percentile(y, (n_quantiles - 1) * quantile)\n",
    "left = y < lower\n",
    "right = y > upper\n",
    "cens = pd.Series(np.zeros((ns,)))\n",
    "cens[left] = -1\n",
    "cens[right] = 1\n",
    "y = y.clip(upper=upper, lower=lower)\n",
    "hist = plt.hist(y)\n",
    "\n",
    "tr = TobitModel()\n",
    "result = tr.fit(x, y, cens, verbose=False)"
   ],
   "metadata": {
    "collapsed": false,
    "pycharm": {
     "name": "#%%\n"
    }
   }
  },
  {
   "cell_type": "code",
   "execution_count": 93,
   "outputs": [
    {
     "data": {
      "text/plain": "array([-172.53127135,  -54.48962591,  130.35644106,  245.10349624,\n         93.35968693,  204.52694576,  -67.88169488,  236.63460186,\n       -134.01337364,   32.31007571,   13.9733287 ,  111.66139345,\n         17.82251528,    1.19536489,  139.7306719 ,  104.98090178,\n        134.35277652,  432.25413284,  232.64578012,  144.49115769,\n       -129.00626077,  173.24451171,  121.19050619,  166.51069292,\n       -297.58561967,   37.77835193,  188.63418935, -121.65386219,\n         51.51019891, -202.18284568,  286.42687695,  296.53861327,\n          2.39567241,  250.20302623,  326.43765439,   41.41960259,\n        364.04614507,   54.96853158,  382.66217666,  189.13648345,\n        172.81669945,  217.63721746,  104.01816572,   29.53011957,\n        -69.05535862,  179.69540906,   -7.2711615 , -413.04986653,\n        -80.94147946, -169.21607241,  244.92933118,  547.60710289,\n       -122.90826355,   54.85857756,  229.41937722, -137.52024877,\n         97.74735462, -135.32171624,  -66.11230026, -265.75502294,\n        235.26173615,   35.57910081,  -95.80649968,  290.0811638 ,\n         41.76777072,   67.6503589 ,  254.58953278,  126.26652936,\n       -169.74242797, -151.17925791,  -22.04430975,  110.48931821,\n        -96.49005749,  176.23967515,  142.30473628,  134.27471353,\n       -173.1331115 ,   99.72920035,  125.47385413, -122.86454997,\n        159.57708443,  252.67564689,  129.42142812,  -39.35702931,\n         56.98099948, -640.28085345,  111.51238283,   40.81342901,\n        141.86888243,  341.3992939 ,  -13.94421021,  215.82387409,\n        350.35100066,   53.50437898,  -99.3006219 ,  353.96752066,\n       -126.16147768, -136.31365896, -135.16473613,  246.46133015])"
     },
     "execution_count": 93,
     "metadata": {},
     "output_type": "execute_result"
    }
   ],
   "source": [
    "result.predict(x)"
   ],
   "metadata": {
    "collapsed": false,
    "pycharm": {
     "name": "#%%\n"
    }
   }
  },
  {
   "cell_type": "code",
   "execution_count": 70,
   "outputs": [
    {
     "data": {
      "text/plain": "0    -75.544659\n1    -75.544659\n2     52.416110\n3     64.364405\n4     15.419356\n        ...    \n95    64.364405\n96   -75.544659\n97   -75.544659\n98   -75.544659\n99    64.364405\nLength: 100, dtype: float64"
     },
     "execution_count": 70,
     "metadata": {},
     "output_type": "execute_result"
    }
   ],
   "source": [
    "y"
   ],
   "metadata": {
    "collapsed": false,
    "pycharm": {
     "name": "#%%\n"
    }
   }
  }
 ],
 "metadata": {
  "kernelspec": {
   "display_name": "Python 3",
   "language": "python",
   "name": "python3"
  },
  "language_info": {
   "codemirror_mode": {
    "name": "ipython",
    "version": 2
   },
   "file_extension": ".py",
   "mimetype": "text/x-python",
   "name": "python",
   "nbconvert_exporter": "python",
   "pygments_lexer": "ipython2",
   "version": "2.7.6"
  }
 },
 "nbformat": 4,
 "nbformat_minor": 0
}
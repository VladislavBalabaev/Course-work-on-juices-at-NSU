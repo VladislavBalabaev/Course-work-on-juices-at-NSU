{
 "cells": [
  {
   "cell_type": "code",
   "execution_count": 1,
   "metadata": {
    "collapsed": true,
    "pycharm": {
     "name": "#%%\n"
    }
   },
   "outputs": [
    {
     "data": {
      "text/plain": "        year       date    weekday   holidays  id_store  id_brand   id_sku  \\\n0       2009 2009-01-01   Thursday  Новый год         7      2019    10826   \n1       2009 2009-01-01   Thursday  Новый год        12      2019    10827   \n2       2009 2009-01-01   Thursday  Новый год         7      2019    10827   \n3       2009 2009-01-01   Thursday  Новый год        12      2019    10828   \n4       2009 2009-01-01   Thursday  Новый год         7      2019    10828   \n...      ...        ...        ...        ...       ...       ...      ...   \n857291  2014 2014-12-31  Wednesday  Новый год         7      2018  1906980   \n857292  2014 2014-12-31  Wednesday  Новый год        12      2018  1906981   \n857293  2014 2014-12-31  Wednesday  Новый год         7      2018  1906981   \n857294  2014 2014-12-31  Wednesday  Новый год        12      2018  1907577   \n857295  2014 2014-12-31  Wednesday  Новый год         7      2018  1907577   \n\n        salesvolume  av_price  name_taste  sizecategory  size  \n0                 1        71         mix             2  1000  \n1                 1        71       other             2  1000  \n2                 2        71       other             2  1000  \n3                 0        71       other             2  1000  \n4                 6        71       other             2  1000  \n...             ...       ...         ...           ...   ...  \n857291           13        69      orange             2  1000  \n857292            1        85   pineapple             2  1000  \n857293            2        85   pineapple             2  1000  \n857294            1        98  grapefruit             2  1000  \n857295            6        98  grapefruit             2  1000  \n\n[857296 rows x 12 columns]",
      "text/html": "<div>\n<style scoped>\n    .dataframe tbody tr th:only-of-type {\n        vertical-align: middle;\n    }\n\n    .dataframe tbody tr th {\n        vertical-align: top;\n    }\n\n    .dataframe thead th {\n        text-align: right;\n    }\n</style>\n<table border=\"1\" class=\"dataframe\">\n  <thead>\n    <tr style=\"text-align: right;\">\n      <th></th>\n      <th>year</th>\n      <th>date</th>\n      <th>weekday</th>\n      <th>holidays</th>\n      <th>id_store</th>\n      <th>id_brand</th>\n      <th>id_sku</th>\n      <th>salesvolume</th>\n      <th>av_price</th>\n      <th>name_taste</th>\n      <th>sizecategory</th>\n      <th>size</th>\n    </tr>\n  </thead>\n  <tbody>\n    <tr>\n      <th>0</th>\n      <td>2009</td>\n      <td>2009-01-01</td>\n      <td>Thursday</td>\n      <td>Новый год</td>\n      <td>7</td>\n      <td>2019</td>\n      <td>10826</td>\n      <td>1</td>\n      <td>71</td>\n      <td>mix</td>\n      <td>2</td>\n      <td>1000</td>\n    </tr>\n    <tr>\n      <th>1</th>\n      <td>2009</td>\n      <td>2009-01-01</td>\n      <td>Thursday</td>\n      <td>Новый год</td>\n      <td>12</td>\n      <td>2019</td>\n      <td>10827</td>\n      <td>1</td>\n      <td>71</td>\n      <td>other</td>\n      <td>2</td>\n      <td>1000</td>\n    </tr>\n    <tr>\n      <th>2</th>\n      <td>2009</td>\n      <td>2009-01-01</td>\n      <td>Thursday</td>\n      <td>Новый год</td>\n      <td>7</td>\n      <td>2019</td>\n      <td>10827</td>\n      <td>2</td>\n      <td>71</td>\n      <td>other</td>\n      <td>2</td>\n      <td>1000</td>\n    </tr>\n    <tr>\n      <th>3</th>\n      <td>2009</td>\n      <td>2009-01-01</td>\n      <td>Thursday</td>\n      <td>Новый год</td>\n      <td>12</td>\n      <td>2019</td>\n      <td>10828</td>\n      <td>0</td>\n      <td>71</td>\n      <td>other</td>\n      <td>2</td>\n      <td>1000</td>\n    </tr>\n    <tr>\n      <th>4</th>\n      <td>2009</td>\n      <td>2009-01-01</td>\n      <td>Thursday</td>\n      <td>Новый год</td>\n      <td>7</td>\n      <td>2019</td>\n      <td>10828</td>\n      <td>6</td>\n      <td>71</td>\n      <td>other</td>\n      <td>2</td>\n      <td>1000</td>\n    </tr>\n    <tr>\n      <th>...</th>\n      <td>...</td>\n      <td>...</td>\n      <td>...</td>\n      <td>...</td>\n      <td>...</td>\n      <td>...</td>\n      <td>...</td>\n      <td>...</td>\n      <td>...</td>\n      <td>...</td>\n      <td>...</td>\n      <td>...</td>\n    </tr>\n    <tr>\n      <th>857291</th>\n      <td>2014</td>\n      <td>2014-12-31</td>\n      <td>Wednesday</td>\n      <td>Новый год</td>\n      <td>7</td>\n      <td>2018</td>\n      <td>1906980</td>\n      <td>13</td>\n      <td>69</td>\n      <td>orange</td>\n      <td>2</td>\n      <td>1000</td>\n    </tr>\n    <tr>\n      <th>857292</th>\n      <td>2014</td>\n      <td>2014-12-31</td>\n      <td>Wednesday</td>\n      <td>Новый год</td>\n      <td>12</td>\n      <td>2018</td>\n      <td>1906981</td>\n      <td>1</td>\n      <td>85</td>\n      <td>pineapple</td>\n      <td>2</td>\n      <td>1000</td>\n    </tr>\n    <tr>\n      <th>857293</th>\n      <td>2014</td>\n      <td>2014-12-31</td>\n      <td>Wednesday</td>\n      <td>Новый год</td>\n      <td>7</td>\n      <td>2018</td>\n      <td>1906981</td>\n      <td>2</td>\n      <td>85</td>\n      <td>pineapple</td>\n      <td>2</td>\n      <td>1000</td>\n    </tr>\n    <tr>\n      <th>857294</th>\n      <td>2014</td>\n      <td>2014-12-31</td>\n      <td>Wednesday</td>\n      <td>Новый год</td>\n      <td>12</td>\n      <td>2018</td>\n      <td>1907577</td>\n      <td>1</td>\n      <td>98</td>\n      <td>grapefruit</td>\n      <td>2</td>\n      <td>1000</td>\n    </tr>\n    <tr>\n      <th>857295</th>\n      <td>2014</td>\n      <td>2014-12-31</td>\n      <td>Wednesday</td>\n      <td>Новый год</td>\n      <td>7</td>\n      <td>2018</td>\n      <td>1907577</td>\n      <td>6</td>\n      <td>98</td>\n      <td>grapefruit</td>\n      <td>2</td>\n      <td>1000</td>\n    </tr>\n  </tbody>\n</table>\n<p>857296 rows × 12 columns</p>\n</div>"
     },
     "execution_count": 1,
     "metadata": {},
     "output_type": "execute_result"
    }
   ],
   "source": [
    "# DOWNLOADING DATA\n",
    "\n",
    "import warnings\n",
    "warnings.filterwarnings(\"ignore\")\n",
    "\n",
    "import pandas as pd\n",
    "import numpy as np\n",
    "\n",
    "qjuices = pd.read_csv('Dataframes/qjuices.csv') # or index_col = 0 instead index = False in 'qjuices'\n",
    "\n",
    "qjuices['date'] = pd.to_datetime(qjuices['date'])\n",
    "\n",
    "qjuices"
   ]
  },
  {
   "cell_type": "code",
   "execution_count": 2,
   "outputs": [],
   "source": [
    "qjuices[qjuices['name_taste'] == 'tomato'][qjuices['id_store'] == 7][['date', 'id_sku', 'salesvolume']].to_csv('Dataframes/tomato_distribution.csv', index = False)"
   ],
   "metadata": {
    "collapsed": false,
    "pycharm": {
     "name": "#%%\n"
    }
   }
  },
  {
   "cell_type": "code",
   "execution_count": 3,
   "outputs": [],
   "source": [
    "# QUERYING AN APPROPRIATE DATA\n",
    "\n",
    "tomato_7 = qjuices.query('id_store == 7')[qjuices['name_taste'] == 'tomato']\\\n",
    "    .drop(['year', 'id_brand', 'id_store', 'name_taste', 'size', 'sizecategory'], axis = 1)\\\n",
    "    .drop(['weekday', 'holidays'], axis = 1)\\\n",
    "    .reset_index(drop = True)\n",
    "\n",
    "tomato_7['salesvolume'] = [sale if sale >= 0 else 0 for sale in tomato_7['salesvolume']]\n",
    "\n",
    "# tomato_7"
   ],
   "metadata": {
    "collapsed": false,
    "pycharm": {
     "name": "#%%\n"
    }
   }
  },
  {
   "cell_type": "code",
   "execution_count": 4,
   "outputs": [],
   "source": [
    "# SELECTING NOT ONE-TIME ITEMS\n",
    "\n",
    "items_1 = tomato_7.groupby('id_sku')['salesvolume'].agg('sum').reset_index(False)\n",
    "selected_items_1 = [i for i in items_1[items_1['salesvolume'] >= 600]['id_sku']]\n",
    "tomato_7 = tomato_7[tomato_7['id_sku'].isin(selected_items_1)]\n",
    "\n",
    "# items_2 = tomato_7[tomato_7['date'] > '2013-10-01'].groupby('id_sku')['salesvolume'].agg('sum').reset_index(False)\n",
    "# selected_items_2 = [i for i in items_2[items_2['salesvolume'] >= 500]['id_sku']]\n",
    "# tomato_7 = tomato_7[tomato_7['id_sku'].isin(selected_items_2)]\n",
    "#\n",
    "# tomato_7"
   ],
   "metadata": {
    "collapsed": false,
    "pycharm": {
     "name": "#%%\n"
    }
   }
  },
  {
   "cell_type": "code",
   "execution_count": 5,
   "outputs": [],
   "source": [
    "# CHANGING TABLE STRUCTURE\n",
    "\n",
    "tomato_7 = tomato_7.pivot(values = ['salesvolume', 'av_price'], index = 'date', columns = 'id_sku')\n",
    "\n",
    "tomato_7.columns = [\"_\".join([pair[0], str(pair[1])]) for pair in tomato_7.columns]\n",
    "\n",
    "tomato_7.reset_index(drop = False, inplace = True)\n",
    "\n",
    "# tomato_7"
   ],
   "metadata": {
    "collapsed": false,
    "pycharm": {
     "name": "#%%\n"
    }
   }
  },
  {
   "cell_type": "code",
   "execution_count": 6,
   "outputs": [],
   "source": [
    "# ADDING IS_SUPPLIED\n",
    "\n",
    "for col in [col for col in tomato_7.columns if 'salesvolume' in col]:\n",
    "    tomato_7['is_supplied_' + col.replace('salesvolume_', '')] = [1 if x >= 0 else 0 for x in tomato_7[col]]\n",
    "\n",
    "tomato_7 = tomato_7.fillna(0)\n",
    "\n",
    "# tomato_7"
   ],
   "metadata": {
    "collapsed": false,
    "pycharm": {
     "name": "#%%\n"
    }
   }
  },
  {
   "cell_type": "code",
   "execution_count": 7,
   "outputs": [
    {
     "data": {
      "text/plain": "           date       cpi\n0    2009-01-01  1.000000\n1    2009-01-02  1.000000\n2    2009-01-03  1.000000\n3    2009-01-04  1.000000\n4    2009-01-05  1.000000\n...         ...       ...\n4802 2022-02-24  2.502913\n4803 2022-02-25  2.502913\n4804 2022-02-26  2.502913\n4805 2022-02-27  2.502913\n4806 2022-02-28  2.502913\n\n[4807 rows x 2 columns]",
      "text/html": "<div>\n<style scoped>\n    .dataframe tbody tr th:only-of-type {\n        vertical-align: middle;\n    }\n\n    .dataframe tbody tr th {\n        vertical-align: top;\n    }\n\n    .dataframe thead th {\n        text-align: right;\n    }\n</style>\n<table border=\"1\" class=\"dataframe\">\n  <thead>\n    <tr style=\"text-align: right;\">\n      <th></th>\n      <th>date</th>\n      <th>cpi</th>\n    </tr>\n  </thead>\n  <tbody>\n    <tr>\n      <th>0</th>\n      <td>2009-01-01</td>\n      <td>1.000000</td>\n    </tr>\n    <tr>\n      <th>1</th>\n      <td>2009-01-02</td>\n      <td>1.000000</td>\n    </tr>\n    <tr>\n      <th>2</th>\n      <td>2009-01-03</td>\n      <td>1.000000</td>\n    </tr>\n    <tr>\n      <th>3</th>\n      <td>2009-01-04</td>\n      <td>1.000000</td>\n    </tr>\n    <tr>\n      <th>4</th>\n      <td>2009-01-05</td>\n      <td>1.000000</td>\n    </tr>\n    <tr>\n      <th>...</th>\n      <td>...</td>\n      <td>...</td>\n    </tr>\n    <tr>\n      <th>4802</th>\n      <td>2022-02-24</td>\n      <td>2.502913</td>\n    </tr>\n    <tr>\n      <th>4803</th>\n      <td>2022-02-25</td>\n      <td>2.502913</td>\n    </tr>\n    <tr>\n      <th>4804</th>\n      <td>2022-02-26</td>\n      <td>2.502913</td>\n    </tr>\n    <tr>\n      <th>4805</th>\n      <td>2022-02-27</td>\n      <td>2.502913</td>\n    </tr>\n    <tr>\n      <th>4806</th>\n      <td>2022-02-28</td>\n      <td>2.502913</td>\n    </tr>\n  </tbody>\n</table>\n<p>4807 rows × 2 columns</p>\n</div>"
     },
     "execution_count": 7,
     "metadata": {},
     "output_type": "execute_result"
    }
   ],
   "source": [
    "# CPI\n",
    "\n",
    "CPI = pd.read_excel('Dataframes/CPI for Fruit juices, Perm Krai, in % to the previous month.xlsx', na_values = '?')\n",
    "\n",
    "CPI = pd.melt(CPI, id_vars = ['Month'], var_name = 'Year', value_name = 'Value')\\\n",
    "    .dropna(subset = ['Value'])\n",
    "\n",
    "CPI['Date'] = CPI['Month'] + '-' + CPI['Year'].astype('str')\n",
    "CPI['Date'] = pd.to_datetime(CPI['Date'])\n",
    "\n",
    "CPI = CPI[CPI['Year'] >= 2009]\n",
    "CPI.reset_index(inplace = True, drop = True)\n",
    "\n",
    "CPI.set_index('Date', inplace = True)\n",
    "CPI.drop(['Month', 'Year'], axis = 1, inplace = True)\n",
    "\n",
    "dates = pd.date_range(CPI.index.min() - pd.DateOffset(day=1), CPI.index.max() + pd.DateOffset(day=31), freq='D', name = 'date')\n",
    "CPI = CPI.reindex(dates)\\\n",
    "    .fillna(100)\\\n",
    "    .astype('float')\n",
    "\n",
    "def cummult(series):\n",
    "    A = [1.0]\n",
    "    for i in range(1, len(series)):\n",
    "        A.append(A[i - 1] * series[i])\n",
    "    return A\n",
    "\n",
    "CPI['cpi'] = cummult(CPI['Value'].apply(lambda x: x / 100))\n",
    "\n",
    "CPI.drop('Value', axis = 1, inplace = True)\n",
    "CPI.reset_index(inplace = True)\n",
    "\n",
    "# CPI[CPI['date'] == '2014-12-31']\n",
    "CPI"
   ],
   "metadata": {
    "collapsed": false,
    "pycharm": {
     "name": "#%%\n"
    }
   }
  },
  {
   "cell_type": "code",
   "execution_count": 8,
   "outputs": [],
   "source": [
    "# ADJUSTING OF INFLATION\n",
    "\n",
    "tomato_7 = tomato_7.merge(CPI, on = 'date')\n",
    "\n",
    "for col in [col for col in tomato_7.columns if 'av_price_' in col]:\n",
    "    tomato_7[col] = tomato_7[col] / tomato_7['cpi']\n",
    "\n",
    "tomato_7.drop('cpi', axis = 1, inplace = True)\n",
    "\n",
    "for col in [col for col in tomato_7.columns if 'av_price_' in col]:\n",
    "    tomato_7[col] = tomato_7[col].replace(0, np.NaN)\\\n",
    "    .fillna(tomato_7[col].replace(0, np.NaN).median())\n",
    "        # .fillna(method = 'ffill')\\\n",
    "        # .fillna(method = 'bfill')\n",
    "\n",
    "# tomato_7"
   ],
   "metadata": {
    "collapsed": false,
    "pycharm": {
     "name": "#%%\n"
    }
   }
  },
  {
   "cell_type": "code",
   "execution_count": 9,
   "outputs": [
    {
     "data": {
      "text/plain": "           date  is_discount_46135  is_discount_46902  is_discount_59042  \\\n0    2009-01-01           0.000000                0.0                0.0   \n1    2009-01-02           0.000000                0.0                0.0   \n2    2009-01-03           0.000000                0.0                0.0   \n3    2009-01-04           0.000000                0.0                0.0   \n4    2009-01-05           0.000000                0.0                0.0   \n...         ...                ...                ...                ...   \n2186 2014-12-27           0.304664                0.0                0.0   \n2187 2014-12-28           0.304664                0.0                0.0   \n2188 2014-12-29           0.304664                0.0                0.0   \n2189 2014-12-30           0.304664                0.0                0.0   \n2190 2014-12-31           0.304664                0.0                0.0   \n\n      is_discount_75320  is_discount_201676  is_discount_362058  \\\n0              0.000000                 0.0                 0.0   \n1              0.000000                 0.0                 0.0   \n2              0.000000                 0.0                 0.0   \n3              0.000000                 0.0                 0.0   \n4              0.000000                 0.0                 0.0   \n...                 ...                 ...                 ...   \n2186           0.387326                 0.0                 0.0   \n2187           0.387326                 0.0                 0.0   \n2188           0.387326                 0.0                 0.0   \n2189           0.387326                 0.0                 0.0   \n2190           0.387326                 0.0                 0.0   \n\n      is_discount_415514  is_discount_415824  is_discount_419020  ...  \\\n0               0.000000                 0.0                 0.0  ...   \n1               0.000000                 0.0                 0.0  ...   \n2               0.000000                 0.0                 0.0  ...   \n3               0.000000                 0.0                 0.0  ...   \n4               0.000000                 0.0                 0.0  ...   \n...                  ...                 ...                 ...  ...   \n2186            0.358436                 0.0                 0.0  ...   \n2187            0.358436                 0.0                 0.0  ...   \n2188            0.358436                 0.0                 0.0  ...   \n2189            0.358436                 0.0                 0.0  ...   \n2190            0.358436                 0.0                 0.0  ...   \n\n      is_discount_459894  is_discount_459896  is_discount_461504  \\\n0                    0.0                 0.0                 0.0   \n1                    0.0                 0.0                 0.0   \n2                    0.0                 0.0                 0.0   \n3                    0.0                 0.0                 0.0   \n4                    0.0                 0.0                 0.0   \n...                  ...                 ...                 ...   \n2186                 0.0                 0.0                 0.0   \n2187                 0.0                 0.0                 0.0   \n2188                 0.0                 0.0                 0.0   \n2189                 0.0                 0.0                 0.0   \n2190                 0.0                 0.0                 0.0   \n\n      is_discount_468496  is_discount_468558  is_discount_471503  \\\n0                    0.0                 0.0                 0.0   \n1                    0.0                 0.0                 0.0   \n2                    0.0                 0.0                 0.0   \n3                    0.0                 0.0                 0.0   \n4                    0.0                 0.0                 0.0   \n...                  ...                 ...                 ...   \n2186                 0.0                 0.0                 0.0   \n2187                 0.0                 0.0                 0.0   \n2188                 0.0                 0.0                 0.0   \n2189                 0.0                 0.0                 0.0   \n2190                 0.0                 0.0                 0.0   \n\n      is_discount_481677  is_discount_489135  is_discount_495154  \\\n0                    0.0            0.000000            0.000000   \n1                    0.0            0.000000            0.000000   \n2                    0.0            0.000000            0.000000   \n3                    0.0            0.000000            0.000000   \n4                    0.0            0.000000            0.000000   \n...                  ...                 ...                 ...   \n2186                 0.0            0.297909            0.396074   \n2187                 0.0            0.297909            0.396074   \n2188                 0.0            0.297909            0.396074   \n2189                 0.0            0.297909            0.396074   \n2190                 0.0            0.297909            0.396074   \n\n      is_discount_600761  \n0                    0.0  \n1                    0.0  \n2                    0.0  \n3                    0.0  \n4                    0.0  \n...                  ...  \n2186                 0.0  \n2187                 0.0  \n2188                 0.0  \n2189                 0.0  \n2190                 0.0  \n\n[2191 rows x 22 columns]",
      "text/html": "<div>\n<style scoped>\n    .dataframe tbody tr th:only-of-type {\n        vertical-align: middle;\n    }\n\n    .dataframe tbody tr th {\n        vertical-align: top;\n    }\n\n    .dataframe thead th {\n        text-align: right;\n    }\n</style>\n<table border=\"1\" class=\"dataframe\">\n  <thead>\n    <tr style=\"text-align: right;\">\n      <th></th>\n      <th>date</th>\n      <th>is_discount_46135</th>\n      <th>is_discount_46902</th>\n      <th>is_discount_59042</th>\n      <th>is_discount_75320</th>\n      <th>is_discount_201676</th>\n      <th>is_discount_362058</th>\n      <th>is_discount_415514</th>\n      <th>is_discount_415824</th>\n      <th>is_discount_419020</th>\n      <th>...</th>\n      <th>is_discount_459894</th>\n      <th>is_discount_459896</th>\n      <th>is_discount_461504</th>\n      <th>is_discount_468496</th>\n      <th>is_discount_468558</th>\n      <th>is_discount_471503</th>\n      <th>is_discount_481677</th>\n      <th>is_discount_489135</th>\n      <th>is_discount_495154</th>\n      <th>is_discount_600761</th>\n    </tr>\n  </thead>\n  <tbody>\n    <tr>\n      <th>0</th>\n      <td>2009-01-01</td>\n      <td>0.000000</td>\n      <td>0.0</td>\n      <td>0.0</td>\n      <td>0.000000</td>\n      <td>0.0</td>\n      <td>0.0</td>\n      <td>0.000000</td>\n      <td>0.0</td>\n      <td>0.0</td>\n      <td>...</td>\n      <td>0.0</td>\n      <td>0.0</td>\n      <td>0.0</td>\n      <td>0.0</td>\n      <td>0.0</td>\n      <td>0.0</td>\n      <td>0.0</td>\n      <td>0.000000</td>\n      <td>0.000000</td>\n      <td>0.0</td>\n    </tr>\n    <tr>\n      <th>1</th>\n      <td>2009-01-02</td>\n      <td>0.000000</td>\n      <td>0.0</td>\n      <td>0.0</td>\n      <td>0.000000</td>\n      <td>0.0</td>\n      <td>0.0</td>\n      <td>0.000000</td>\n      <td>0.0</td>\n      <td>0.0</td>\n      <td>...</td>\n      <td>0.0</td>\n      <td>0.0</td>\n      <td>0.0</td>\n      <td>0.0</td>\n      <td>0.0</td>\n      <td>0.0</td>\n      <td>0.0</td>\n      <td>0.000000</td>\n      <td>0.000000</td>\n      <td>0.0</td>\n    </tr>\n    <tr>\n      <th>2</th>\n      <td>2009-01-03</td>\n      <td>0.000000</td>\n      <td>0.0</td>\n      <td>0.0</td>\n      <td>0.000000</td>\n      <td>0.0</td>\n      <td>0.0</td>\n      <td>0.000000</td>\n      <td>0.0</td>\n      <td>0.0</td>\n      <td>...</td>\n      <td>0.0</td>\n      <td>0.0</td>\n      <td>0.0</td>\n      <td>0.0</td>\n      <td>0.0</td>\n      <td>0.0</td>\n      <td>0.0</td>\n      <td>0.000000</td>\n      <td>0.000000</td>\n      <td>0.0</td>\n    </tr>\n    <tr>\n      <th>3</th>\n      <td>2009-01-04</td>\n      <td>0.000000</td>\n      <td>0.0</td>\n      <td>0.0</td>\n      <td>0.000000</td>\n      <td>0.0</td>\n      <td>0.0</td>\n      <td>0.000000</td>\n      <td>0.0</td>\n      <td>0.0</td>\n      <td>...</td>\n      <td>0.0</td>\n      <td>0.0</td>\n      <td>0.0</td>\n      <td>0.0</td>\n      <td>0.0</td>\n      <td>0.0</td>\n      <td>0.0</td>\n      <td>0.000000</td>\n      <td>0.000000</td>\n      <td>0.0</td>\n    </tr>\n    <tr>\n      <th>4</th>\n      <td>2009-01-05</td>\n      <td>0.000000</td>\n      <td>0.0</td>\n      <td>0.0</td>\n      <td>0.000000</td>\n      <td>0.0</td>\n      <td>0.0</td>\n      <td>0.000000</td>\n      <td>0.0</td>\n      <td>0.0</td>\n      <td>...</td>\n      <td>0.0</td>\n      <td>0.0</td>\n      <td>0.0</td>\n      <td>0.0</td>\n      <td>0.0</td>\n      <td>0.0</td>\n      <td>0.0</td>\n      <td>0.000000</td>\n      <td>0.000000</td>\n      <td>0.0</td>\n    </tr>\n    <tr>\n      <th>...</th>\n      <td>...</td>\n      <td>...</td>\n      <td>...</td>\n      <td>...</td>\n      <td>...</td>\n      <td>...</td>\n      <td>...</td>\n      <td>...</td>\n      <td>...</td>\n      <td>...</td>\n      <td>...</td>\n      <td>...</td>\n      <td>...</td>\n      <td>...</td>\n      <td>...</td>\n      <td>...</td>\n      <td>...</td>\n      <td>...</td>\n      <td>...</td>\n      <td>...</td>\n      <td>...</td>\n    </tr>\n    <tr>\n      <th>2186</th>\n      <td>2014-12-27</td>\n      <td>0.304664</td>\n      <td>0.0</td>\n      <td>0.0</td>\n      <td>0.387326</td>\n      <td>0.0</td>\n      <td>0.0</td>\n      <td>0.358436</td>\n      <td>0.0</td>\n      <td>0.0</td>\n      <td>...</td>\n      <td>0.0</td>\n      <td>0.0</td>\n      <td>0.0</td>\n      <td>0.0</td>\n      <td>0.0</td>\n      <td>0.0</td>\n      <td>0.0</td>\n      <td>0.297909</td>\n      <td>0.396074</td>\n      <td>0.0</td>\n    </tr>\n    <tr>\n      <th>2187</th>\n      <td>2014-12-28</td>\n      <td>0.304664</td>\n      <td>0.0</td>\n      <td>0.0</td>\n      <td>0.387326</td>\n      <td>0.0</td>\n      <td>0.0</td>\n      <td>0.358436</td>\n      <td>0.0</td>\n      <td>0.0</td>\n      <td>...</td>\n      <td>0.0</td>\n      <td>0.0</td>\n      <td>0.0</td>\n      <td>0.0</td>\n      <td>0.0</td>\n      <td>0.0</td>\n      <td>0.0</td>\n      <td>0.297909</td>\n      <td>0.396074</td>\n      <td>0.0</td>\n    </tr>\n    <tr>\n      <th>2188</th>\n      <td>2014-12-29</td>\n      <td>0.304664</td>\n      <td>0.0</td>\n      <td>0.0</td>\n      <td>0.387326</td>\n      <td>0.0</td>\n      <td>0.0</td>\n      <td>0.358436</td>\n      <td>0.0</td>\n      <td>0.0</td>\n      <td>...</td>\n      <td>0.0</td>\n      <td>0.0</td>\n      <td>0.0</td>\n      <td>0.0</td>\n      <td>0.0</td>\n      <td>0.0</td>\n      <td>0.0</td>\n      <td>0.297909</td>\n      <td>0.396074</td>\n      <td>0.0</td>\n    </tr>\n    <tr>\n      <th>2189</th>\n      <td>2014-12-30</td>\n      <td>0.304664</td>\n      <td>0.0</td>\n      <td>0.0</td>\n      <td>0.387326</td>\n      <td>0.0</td>\n      <td>0.0</td>\n      <td>0.358436</td>\n      <td>0.0</td>\n      <td>0.0</td>\n      <td>...</td>\n      <td>0.0</td>\n      <td>0.0</td>\n      <td>0.0</td>\n      <td>0.0</td>\n      <td>0.0</td>\n      <td>0.0</td>\n      <td>0.0</td>\n      <td>0.297909</td>\n      <td>0.396074</td>\n      <td>0.0</td>\n    </tr>\n    <tr>\n      <th>2190</th>\n      <td>2014-12-31</td>\n      <td>0.304664</td>\n      <td>0.0</td>\n      <td>0.0</td>\n      <td>0.387326</td>\n      <td>0.0</td>\n      <td>0.0</td>\n      <td>0.358436</td>\n      <td>0.0</td>\n      <td>0.0</td>\n      <td>...</td>\n      <td>0.0</td>\n      <td>0.0</td>\n      <td>0.0</td>\n      <td>0.0</td>\n      <td>0.0</td>\n      <td>0.0</td>\n      <td>0.0</td>\n      <td>0.297909</td>\n      <td>0.396074</td>\n      <td>0.0</td>\n    </tr>\n  </tbody>\n</table>\n<p>2191 rows × 22 columns</p>\n</div>"
     },
     "execution_count": 9,
     "metadata": {},
     "output_type": "execute_result"
    }
   ],
   "source": [
    "# CALCULATING DISCOUNT DATAFRAME I\n",
    "\n",
    "discount = pd.DataFrame(tomato_7['date'])\n",
    "\n",
    "for col in [col for col in tomato_7.columns if 'av_price_' in col]:\n",
    "    med = tomato_7[col].median()\n",
    "    disc = tomato_7[col].apply(lambda x: 0 if (med - x) / med < 0.25 else (med - x) / med)\n",
    "    if sum(disc) > 0.25 * 20:\n",
    "        discount['is_discount_' + col.replace('av_price_', '')] = disc\n",
    "\n",
    "discount"
   ],
   "metadata": {
    "collapsed": false,
    "pycharm": {
     "name": "#%%\n"
    }
   }
  },
  {
   "cell_type": "code",
   "execution_count": 10,
   "outputs": [
    {
     "data": {
      "text/plain": "           date  av_price_46135  av_price_46902  av_price_59042  \\\n0    2009-01-01       65.000000       47.000000       56.000000   \n1    2009-01-02       65.000000       48.000000       60.000000   \n2    2009-01-03       66.000000       48.000000       61.000000   \n3    2009-01-04       65.000000       48.000000       61.000000   \n4    2009-01-05       66.000000       48.000000       61.000000   \n...         ...             ...             ...             ...   \n2186 2014-12-27       46.427693       50.434773       59.985598   \n2187 2014-12-28       46.427693       50.434773       59.985598   \n2188 2014-12-29       46.427693       50.434773       59.985598   \n2189 2014-12-30       46.427693       50.434773       59.985598   \n2190 2014-12-31       46.427693       50.434773       59.985598   \n\n      av_price_75320  av_price_201676  av_price_362058  av_price_415514  \\\n0          84.000000        42.000000        49.943062        36.707605   \n1          84.000000        42.000000        49.943062        36.707605   \n2          84.000000        42.000000        49.943062        36.707605   \n3          84.000000        42.000000        49.943062        36.707605   \n4          84.000000        42.000000        49.943062        36.707605   \n...              ...              ...              ...              ...   \n2186       50.464884        37.007582        49.943062        23.550279   \n2187       50.464884        37.007582        49.943062        23.550279   \n2188       50.464884        37.007582        49.943062        23.550279   \n2189       50.464884        37.007582        49.943062        23.550279   \n2190       50.464884        37.007582        49.943062        23.550279   \n\n      av_price_415824  av_price_419020  ...  is_supplied_459894  \\\n0            69.01367        59.973953  ...                   0   \n1            69.01367        59.973953  ...                   0   \n2            69.01367        59.973953  ...                   0   \n3            69.01367        59.973953  ...                   0   \n4            69.01367        59.973953  ...                   0   \n...               ...              ...  ...                 ...   \n2186         69.01367        52.483479  ...                   0   \n2187         69.01367        55.174940  ...                   0   \n2188         69.01367        55.174940  ...                   0   \n2189         69.01367        55.174940  ...                   0   \n2190         69.01367        55.174940  ...                   0   \n\n      is_supplied_459896  is_supplied_461504  is_supplied_468496  \\\n0                      0                   0                   0   \n1                      0                   0                   0   \n2                      0                   0                   0   \n3                      0                   0                   0   \n4                      0                   0                   0   \n...                  ...                 ...                 ...   \n2186                   0                   0                   1   \n2187                   0                   0                   1   \n2188                   0                   0                   1   \n2189                   0                   0                   1   \n2190                   0                   0                   1   \n\n      is_supplied_468558  is_supplied_471503  is_supplied_481677  \\\n0                      0                   0                   0   \n1                      0                   0                   0   \n2                      0                   0                   0   \n3                      0                   0                   0   \n4                      0                   0                   0   \n...                  ...                 ...                 ...   \n2186                   1                   1                   0   \n2187                   1                   1                   0   \n2188                   1                   1                   0   \n2189                   1                   1                   0   \n2190                   1                   1                   0   \n\n      is_supplied_489135  is_supplied_495154  is_supplied_600761  \n0                      0                   0                   0  \n1                      0                   0                   0  \n2                      0                   0                   0  \n3                      0                   0                   0  \n4                      0                   0                   0  \n...                  ...                 ...                 ...  \n2186                   1                   1                   1  \n2187                   1                   1                   1  \n2188                   1                   1                   1  \n2189                   1                   1                   1  \n2190                   1                   1                   1  \n\n[2191 rows x 64 columns]",
      "text/html": "<div>\n<style scoped>\n    .dataframe tbody tr th:only-of-type {\n        vertical-align: middle;\n    }\n\n    .dataframe tbody tr th {\n        vertical-align: top;\n    }\n\n    .dataframe thead th {\n        text-align: right;\n    }\n</style>\n<table border=\"1\" class=\"dataframe\">\n  <thead>\n    <tr style=\"text-align: right;\">\n      <th></th>\n      <th>date</th>\n      <th>av_price_46135</th>\n      <th>av_price_46902</th>\n      <th>av_price_59042</th>\n      <th>av_price_75320</th>\n      <th>av_price_201676</th>\n      <th>av_price_362058</th>\n      <th>av_price_415514</th>\n      <th>av_price_415824</th>\n      <th>av_price_419020</th>\n      <th>...</th>\n      <th>is_supplied_459894</th>\n      <th>is_supplied_459896</th>\n      <th>is_supplied_461504</th>\n      <th>is_supplied_468496</th>\n      <th>is_supplied_468558</th>\n      <th>is_supplied_471503</th>\n      <th>is_supplied_481677</th>\n      <th>is_supplied_489135</th>\n      <th>is_supplied_495154</th>\n      <th>is_supplied_600761</th>\n    </tr>\n  </thead>\n  <tbody>\n    <tr>\n      <th>0</th>\n      <td>2009-01-01</td>\n      <td>65.000000</td>\n      <td>47.000000</td>\n      <td>56.000000</td>\n      <td>84.000000</td>\n      <td>42.000000</td>\n      <td>49.943062</td>\n      <td>36.707605</td>\n      <td>69.01367</td>\n      <td>59.973953</td>\n      <td>...</td>\n      <td>0</td>\n      <td>0</td>\n      <td>0</td>\n      <td>0</td>\n      <td>0</td>\n      <td>0</td>\n      <td>0</td>\n      <td>0</td>\n      <td>0</td>\n      <td>0</td>\n    </tr>\n    <tr>\n      <th>1</th>\n      <td>2009-01-02</td>\n      <td>65.000000</td>\n      <td>48.000000</td>\n      <td>60.000000</td>\n      <td>84.000000</td>\n      <td>42.000000</td>\n      <td>49.943062</td>\n      <td>36.707605</td>\n      <td>69.01367</td>\n      <td>59.973953</td>\n      <td>...</td>\n      <td>0</td>\n      <td>0</td>\n      <td>0</td>\n      <td>0</td>\n      <td>0</td>\n      <td>0</td>\n      <td>0</td>\n      <td>0</td>\n      <td>0</td>\n      <td>0</td>\n    </tr>\n    <tr>\n      <th>2</th>\n      <td>2009-01-03</td>\n      <td>66.000000</td>\n      <td>48.000000</td>\n      <td>61.000000</td>\n      <td>84.000000</td>\n      <td>42.000000</td>\n      <td>49.943062</td>\n      <td>36.707605</td>\n      <td>69.01367</td>\n      <td>59.973953</td>\n      <td>...</td>\n      <td>0</td>\n      <td>0</td>\n      <td>0</td>\n      <td>0</td>\n      <td>0</td>\n      <td>0</td>\n      <td>0</td>\n      <td>0</td>\n      <td>0</td>\n      <td>0</td>\n    </tr>\n    <tr>\n      <th>3</th>\n      <td>2009-01-04</td>\n      <td>65.000000</td>\n      <td>48.000000</td>\n      <td>61.000000</td>\n      <td>84.000000</td>\n      <td>42.000000</td>\n      <td>49.943062</td>\n      <td>36.707605</td>\n      <td>69.01367</td>\n      <td>59.973953</td>\n      <td>...</td>\n      <td>0</td>\n      <td>0</td>\n      <td>0</td>\n      <td>0</td>\n      <td>0</td>\n      <td>0</td>\n      <td>0</td>\n      <td>0</td>\n      <td>0</td>\n      <td>0</td>\n    </tr>\n    <tr>\n      <th>4</th>\n      <td>2009-01-05</td>\n      <td>66.000000</td>\n      <td>48.000000</td>\n      <td>61.000000</td>\n      <td>84.000000</td>\n      <td>42.000000</td>\n      <td>49.943062</td>\n      <td>36.707605</td>\n      <td>69.01367</td>\n      <td>59.973953</td>\n      <td>...</td>\n      <td>0</td>\n      <td>0</td>\n      <td>0</td>\n      <td>0</td>\n      <td>0</td>\n      <td>0</td>\n      <td>0</td>\n      <td>0</td>\n      <td>0</td>\n      <td>0</td>\n    </tr>\n    <tr>\n      <th>...</th>\n      <td>...</td>\n      <td>...</td>\n      <td>...</td>\n      <td>...</td>\n      <td>...</td>\n      <td>...</td>\n      <td>...</td>\n      <td>...</td>\n      <td>...</td>\n      <td>...</td>\n      <td>...</td>\n      <td>...</td>\n      <td>...</td>\n      <td>...</td>\n      <td>...</td>\n      <td>...</td>\n      <td>...</td>\n      <td>...</td>\n      <td>...</td>\n      <td>...</td>\n      <td>...</td>\n    </tr>\n    <tr>\n      <th>2186</th>\n      <td>2014-12-27</td>\n      <td>46.427693</td>\n      <td>50.434773</td>\n      <td>59.985598</td>\n      <td>50.464884</td>\n      <td>37.007582</td>\n      <td>49.943062</td>\n      <td>23.550279</td>\n      <td>69.01367</td>\n      <td>52.483479</td>\n      <td>...</td>\n      <td>0</td>\n      <td>0</td>\n      <td>0</td>\n      <td>1</td>\n      <td>1</td>\n      <td>1</td>\n      <td>0</td>\n      <td>1</td>\n      <td>1</td>\n      <td>1</td>\n    </tr>\n    <tr>\n      <th>2187</th>\n      <td>2014-12-28</td>\n      <td>46.427693</td>\n      <td>50.434773</td>\n      <td>59.985598</td>\n      <td>50.464884</td>\n      <td>37.007582</td>\n      <td>49.943062</td>\n      <td>23.550279</td>\n      <td>69.01367</td>\n      <td>55.174940</td>\n      <td>...</td>\n      <td>0</td>\n      <td>0</td>\n      <td>0</td>\n      <td>1</td>\n      <td>1</td>\n      <td>1</td>\n      <td>0</td>\n      <td>1</td>\n      <td>1</td>\n      <td>1</td>\n    </tr>\n    <tr>\n      <th>2188</th>\n      <td>2014-12-29</td>\n      <td>46.427693</td>\n      <td>50.434773</td>\n      <td>59.985598</td>\n      <td>50.464884</td>\n      <td>37.007582</td>\n      <td>49.943062</td>\n      <td>23.550279</td>\n      <td>69.01367</td>\n      <td>55.174940</td>\n      <td>...</td>\n      <td>0</td>\n      <td>0</td>\n      <td>0</td>\n      <td>1</td>\n      <td>1</td>\n      <td>1</td>\n      <td>0</td>\n      <td>1</td>\n      <td>1</td>\n      <td>1</td>\n    </tr>\n    <tr>\n      <th>2189</th>\n      <td>2014-12-30</td>\n      <td>46.427693</td>\n      <td>50.434773</td>\n      <td>59.985598</td>\n      <td>50.464884</td>\n      <td>37.007582</td>\n      <td>49.943062</td>\n      <td>23.550279</td>\n      <td>69.01367</td>\n      <td>55.174940</td>\n      <td>...</td>\n      <td>0</td>\n      <td>0</td>\n      <td>0</td>\n      <td>1</td>\n      <td>1</td>\n      <td>1</td>\n      <td>0</td>\n      <td>1</td>\n      <td>1</td>\n      <td>1</td>\n    </tr>\n    <tr>\n      <th>2190</th>\n      <td>2014-12-31</td>\n      <td>46.427693</td>\n      <td>50.434773</td>\n      <td>59.985598</td>\n      <td>50.464884</td>\n      <td>37.007582</td>\n      <td>49.943062</td>\n      <td>23.550279</td>\n      <td>69.01367</td>\n      <td>55.174940</td>\n      <td>...</td>\n      <td>0</td>\n      <td>0</td>\n      <td>0</td>\n      <td>1</td>\n      <td>1</td>\n      <td>1</td>\n      <td>0</td>\n      <td>1</td>\n      <td>1</td>\n      <td>1</td>\n    </tr>\n  </tbody>\n</table>\n<p>2191 rows × 64 columns</p>\n</div>"
     },
     "execution_count": 10,
     "metadata": {},
     "output_type": "execute_result"
    }
   ],
   "source": [
    "# SELECTING ITEMS WHICH HAVE DISCOUNT\n",
    "\n",
    "IDs = [col.strip('is_discount_') for col in discount.columns if 'is_discount_' in col]\n",
    "\n",
    "selected_items_2 = []\n",
    "for name in ['av_price_', 'salesvolume_', 'is_supplied_']:\n",
    "    selected_items_2 += [col for col in tomato_7.columns if col.replace(name, '') in IDs]\n",
    "\n",
    "tomato_7 = tomato_7[['date'] + selected_items_2]\n",
    "tomato_7"
   ],
   "metadata": {
    "collapsed": false,
    "pycharm": {
     "name": "#%%\n"
    }
   }
  },
  {
   "cell_type": "code",
   "execution_count": 11,
   "outputs": [],
   "source": [
    "# # CALCULATING DISCOUNT DATAFRAME I\n",
    "#\n",
    "# discount = pd.DataFrame(tomato_7['date'])\n",
    "#\n",
    "# for col in [col for col in tomato_7.columns if 'av_price_' in col]:\n",
    "#     disc_list = []\n",
    "#\n",
    "#     for i, price in enumerate(tomato_7[col]):\n",
    "#\n",
    "#         if i != 0:\n",
    "#             margin_backward = (tomato_7[col][i - 1] - price) / tomato_7[col][i - 1]\n",
    "#             margin_forward = (price - tomato_7[col][i - 1]) / tomato_7[col][i - 1]\n",
    "#\n",
    "#         if tomato_7['is_supplied_' + col.replace('av_price_', '')][i] == 0 or i == 0:\n",
    "#             disc_list.append(0)\n",
    "#\n",
    "#         elif margin_backward >= 0.2:\n",
    "#             disc_list.append(margin_backward)   # 1\n",
    "#\n",
    "#         elif disc_list[i - 1] != 0 and margin_forward <= 0.2:\n",
    "#             disc_list.append(disc_list[i - 1])  # 1\n",
    "#\n",
    "#         elif disc_list[i - 1] != 0 and margin_forward >= 0.2:\n",
    "#             disc_list.append(0)\n",
    "#\n",
    "#         elif disc_list[i - 1] == 0 and (abs(margin_backward) <= 0.2 or price > tomato_7[col][i - 1]):\n",
    "#             disc_list.append(0)\n",
    "#\n",
    "#     if sum(disc_list) > 5 * 0.2:\n",
    "#         discount['is_discount_' + col.replace('av_price_', '')] = disc_list\n",
    "#\n",
    "# discount"
   ],
   "metadata": {
    "collapsed": false,
    "pycharm": {
     "name": "#%%\n"
    }
   }
  },
  {
   "cell_type": "code",
   "execution_count": 12,
   "outputs": [
    {
     "data": {
      "text/plain": "           date  is_discount_46135  is_discount_46902  is_discount_59042  \\\n0    2009-01-01           0.000000                0.0                0.0   \n1    2009-01-02           0.000000                0.0                0.0   \n2    2009-01-03           0.000000                0.0                0.0   \n3    2009-01-04           0.000000                0.0                0.0   \n4    2009-01-05           0.000000                0.0                0.0   \n...         ...                ...                ...                ...   \n2186 2014-12-27           0.304664                0.0                0.0   \n2187 2014-12-28           0.304664                0.0                0.0   \n2188 2014-12-29           0.304664                0.0                0.0   \n2189 2014-12-30           0.304664                0.0                0.0   \n2190 2014-12-31           0.304664                0.0                0.0   \n\n      is_discount_75320  is_discount_201676  is_discount_362058  \\\n0              0.000000                 0.0                 0.0   \n1              0.000000                 0.0                 0.0   \n2              0.000000                 0.0                 0.0   \n3              0.000000                 0.0                 0.0   \n4              0.000000                 0.0                 0.0   \n...                 ...                 ...                 ...   \n2186           0.387326                 0.0                 0.0   \n2187           0.387326                 0.0                 0.0   \n2188           0.387326                 0.0                 0.0   \n2189           0.387326                 0.0                 0.0   \n2190           0.387326                 0.0                 0.0   \n\n      is_discount_415514  is_discount_415824  is_discount_419020  ...  \\\n0               0.000000                 0.0                 0.0  ...   \n1               0.000000                 0.0                 0.0  ...   \n2               0.000000                 0.0                 0.0  ...   \n3               0.000000                 0.0                 0.0  ...   \n4               0.000000                 0.0                 0.0  ...   \n...                  ...                 ...                 ...  ...   \n2186            0.358436                 0.0                 0.0  ...   \n2187            0.358436                 0.0                 0.0  ...   \n2188            0.358436                 0.0                 0.0  ...   \n2189            0.358436                 0.0                 0.0  ...   \n2190            0.358436                 0.0                 0.0  ...   \n\n      num_other_discounts_459894  num_other_discounts_459896  \\\n0                              0                           0   \n1                              0                           0   \n2                              0                           0   \n3                              0                           0   \n4                              0                           0   \n...                          ...                         ...   \n2186                           5                           5   \n2187                           5                           5   \n2188                           5                           5   \n2189                           5                           5   \n2190                           5                           5   \n\n      num_other_discounts_461504  num_other_discounts_468496  \\\n0                              0                           0   \n1                              0                           0   \n2                              0                           0   \n3                              0                           0   \n4                              0                           0   \n...                          ...                         ...   \n2186                           5                           5   \n2187                           5                           5   \n2188                           5                           5   \n2189                           5                           5   \n2190                           5                           5   \n\n      num_other_discounts_468558  num_other_discounts_471503  \\\n0                              0                           0   \n1                              0                           0   \n2                              0                           0   \n3                              0                           0   \n4                              0                           0   \n...                          ...                         ...   \n2186                           5                           5   \n2187                           5                           5   \n2188                           5                           5   \n2189                           5                           5   \n2190                           5                           5   \n\n      num_other_discounts_481677  num_other_discounts_489135  \\\n0                              0                           0   \n1                              0                           0   \n2                              0                           0   \n3                              0                           0   \n4                              0                           0   \n...                          ...                         ...   \n2186                           5                           5   \n2187                           5                           5   \n2188                           5                           5   \n2189                           5                           5   \n2190                           5                           5   \n\n      num_other_discounts_495154  num_other_discounts_600761  \n0                              0                           0  \n1                              0                           0  \n2                              0                           0  \n3                              0                           0  \n4                              0                           0  \n...                          ...                         ...  \n2186                           5                           5  \n2187                           5                           5  \n2188                           5                           5  \n2189                           5                           5  \n2190                           5                           5  \n\n[2191 rows x 43 columns]",
      "text/html": "<div>\n<style scoped>\n    .dataframe tbody tr th:only-of-type {\n        vertical-align: middle;\n    }\n\n    .dataframe tbody tr th {\n        vertical-align: top;\n    }\n\n    .dataframe thead th {\n        text-align: right;\n    }\n</style>\n<table border=\"1\" class=\"dataframe\">\n  <thead>\n    <tr style=\"text-align: right;\">\n      <th></th>\n      <th>date</th>\n      <th>is_discount_46135</th>\n      <th>is_discount_46902</th>\n      <th>is_discount_59042</th>\n      <th>is_discount_75320</th>\n      <th>is_discount_201676</th>\n      <th>is_discount_362058</th>\n      <th>is_discount_415514</th>\n      <th>is_discount_415824</th>\n      <th>is_discount_419020</th>\n      <th>...</th>\n      <th>num_other_discounts_459894</th>\n      <th>num_other_discounts_459896</th>\n      <th>num_other_discounts_461504</th>\n      <th>num_other_discounts_468496</th>\n      <th>num_other_discounts_468558</th>\n      <th>num_other_discounts_471503</th>\n      <th>num_other_discounts_481677</th>\n      <th>num_other_discounts_489135</th>\n      <th>num_other_discounts_495154</th>\n      <th>num_other_discounts_600761</th>\n    </tr>\n  </thead>\n  <tbody>\n    <tr>\n      <th>0</th>\n      <td>2009-01-01</td>\n      <td>0.000000</td>\n      <td>0.0</td>\n      <td>0.0</td>\n      <td>0.000000</td>\n      <td>0.0</td>\n      <td>0.0</td>\n      <td>0.000000</td>\n      <td>0.0</td>\n      <td>0.0</td>\n      <td>...</td>\n      <td>0</td>\n      <td>0</td>\n      <td>0</td>\n      <td>0</td>\n      <td>0</td>\n      <td>0</td>\n      <td>0</td>\n      <td>0</td>\n      <td>0</td>\n      <td>0</td>\n    </tr>\n    <tr>\n      <th>1</th>\n      <td>2009-01-02</td>\n      <td>0.000000</td>\n      <td>0.0</td>\n      <td>0.0</td>\n      <td>0.000000</td>\n      <td>0.0</td>\n      <td>0.0</td>\n      <td>0.000000</td>\n      <td>0.0</td>\n      <td>0.0</td>\n      <td>...</td>\n      <td>0</td>\n      <td>0</td>\n      <td>0</td>\n      <td>0</td>\n      <td>0</td>\n      <td>0</td>\n      <td>0</td>\n      <td>0</td>\n      <td>0</td>\n      <td>0</td>\n    </tr>\n    <tr>\n      <th>2</th>\n      <td>2009-01-03</td>\n      <td>0.000000</td>\n      <td>0.0</td>\n      <td>0.0</td>\n      <td>0.000000</td>\n      <td>0.0</td>\n      <td>0.0</td>\n      <td>0.000000</td>\n      <td>0.0</td>\n      <td>0.0</td>\n      <td>...</td>\n      <td>0</td>\n      <td>0</td>\n      <td>0</td>\n      <td>0</td>\n      <td>0</td>\n      <td>0</td>\n      <td>0</td>\n      <td>0</td>\n      <td>0</td>\n      <td>0</td>\n    </tr>\n    <tr>\n      <th>3</th>\n      <td>2009-01-04</td>\n      <td>0.000000</td>\n      <td>0.0</td>\n      <td>0.0</td>\n      <td>0.000000</td>\n      <td>0.0</td>\n      <td>0.0</td>\n      <td>0.000000</td>\n      <td>0.0</td>\n      <td>0.0</td>\n      <td>...</td>\n      <td>0</td>\n      <td>0</td>\n      <td>0</td>\n      <td>0</td>\n      <td>0</td>\n      <td>0</td>\n      <td>0</td>\n      <td>0</td>\n      <td>0</td>\n      <td>0</td>\n    </tr>\n    <tr>\n      <th>4</th>\n      <td>2009-01-05</td>\n      <td>0.000000</td>\n      <td>0.0</td>\n      <td>0.0</td>\n      <td>0.000000</td>\n      <td>0.0</td>\n      <td>0.0</td>\n      <td>0.000000</td>\n      <td>0.0</td>\n      <td>0.0</td>\n      <td>...</td>\n      <td>0</td>\n      <td>0</td>\n      <td>0</td>\n      <td>0</td>\n      <td>0</td>\n      <td>0</td>\n      <td>0</td>\n      <td>0</td>\n      <td>0</td>\n      <td>0</td>\n    </tr>\n    <tr>\n      <th>...</th>\n      <td>...</td>\n      <td>...</td>\n      <td>...</td>\n      <td>...</td>\n      <td>...</td>\n      <td>...</td>\n      <td>...</td>\n      <td>...</td>\n      <td>...</td>\n      <td>...</td>\n      <td>...</td>\n      <td>...</td>\n      <td>...</td>\n      <td>...</td>\n      <td>...</td>\n      <td>...</td>\n      <td>...</td>\n      <td>...</td>\n      <td>...</td>\n      <td>...</td>\n      <td>...</td>\n    </tr>\n    <tr>\n      <th>2186</th>\n      <td>2014-12-27</td>\n      <td>0.304664</td>\n      <td>0.0</td>\n      <td>0.0</td>\n      <td>0.387326</td>\n      <td>0.0</td>\n      <td>0.0</td>\n      <td>0.358436</td>\n      <td>0.0</td>\n      <td>0.0</td>\n      <td>...</td>\n      <td>5</td>\n      <td>5</td>\n      <td>5</td>\n      <td>5</td>\n      <td>5</td>\n      <td>5</td>\n      <td>5</td>\n      <td>5</td>\n      <td>5</td>\n      <td>5</td>\n    </tr>\n    <tr>\n      <th>2187</th>\n      <td>2014-12-28</td>\n      <td>0.304664</td>\n      <td>0.0</td>\n      <td>0.0</td>\n      <td>0.387326</td>\n      <td>0.0</td>\n      <td>0.0</td>\n      <td>0.358436</td>\n      <td>0.0</td>\n      <td>0.0</td>\n      <td>...</td>\n      <td>5</td>\n      <td>5</td>\n      <td>5</td>\n      <td>5</td>\n      <td>5</td>\n      <td>5</td>\n      <td>5</td>\n      <td>5</td>\n      <td>5</td>\n      <td>5</td>\n    </tr>\n    <tr>\n      <th>2188</th>\n      <td>2014-12-29</td>\n      <td>0.304664</td>\n      <td>0.0</td>\n      <td>0.0</td>\n      <td>0.387326</td>\n      <td>0.0</td>\n      <td>0.0</td>\n      <td>0.358436</td>\n      <td>0.0</td>\n      <td>0.0</td>\n      <td>...</td>\n      <td>5</td>\n      <td>5</td>\n      <td>5</td>\n      <td>5</td>\n      <td>5</td>\n      <td>5</td>\n      <td>5</td>\n      <td>5</td>\n      <td>5</td>\n      <td>5</td>\n    </tr>\n    <tr>\n      <th>2189</th>\n      <td>2014-12-30</td>\n      <td>0.304664</td>\n      <td>0.0</td>\n      <td>0.0</td>\n      <td>0.387326</td>\n      <td>0.0</td>\n      <td>0.0</td>\n      <td>0.358436</td>\n      <td>0.0</td>\n      <td>0.0</td>\n      <td>...</td>\n      <td>5</td>\n      <td>5</td>\n      <td>5</td>\n      <td>5</td>\n      <td>5</td>\n      <td>5</td>\n      <td>5</td>\n      <td>5</td>\n      <td>5</td>\n      <td>5</td>\n    </tr>\n    <tr>\n      <th>2190</th>\n      <td>2014-12-31</td>\n      <td>0.304664</td>\n      <td>0.0</td>\n      <td>0.0</td>\n      <td>0.387326</td>\n      <td>0.0</td>\n      <td>0.0</td>\n      <td>0.358436</td>\n      <td>0.0</td>\n      <td>0.0</td>\n      <td>...</td>\n      <td>5</td>\n      <td>5</td>\n      <td>5</td>\n      <td>5</td>\n      <td>5</td>\n      <td>5</td>\n      <td>5</td>\n      <td>5</td>\n      <td>5</td>\n      <td>5</td>\n    </tr>\n  </tbody>\n</table>\n<p>2191 rows × 43 columns</p>\n</div>"
     },
     "execution_count": 12,
     "metadata": {},
     "output_type": "execute_result"
    }
   ],
   "source": [
    "# CALCULATING DISCOUNT DATAFRAME II\n",
    "\n",
    "# for id in IDs:\n",
    "#     days_with_discount_list = []\n",
    "#     for i, val in enumerate(discount['is_discount_' + id]):\n",
    "#         if val == 0:\n",
    "#             days_with_discount_list.append(0)\n",
    "#         else:\n",
    "#             days_with_discount_list.append(days_with_discount_list[i - 1] + 1 if i > 0 else 1)\n",
    "#\n",
    "#     discount['num_days_discount_' + id] = days_with_discount_list\n",
    "#\n",
    "# for id in IDs:\n",
    "#     days_without_discount_list = []\n",
    "#     for i, val in enumerate(discount['is_discount_' + id]):\n",
    "#         if val == 0:\n",
    "#             days_without_discount_list.append((days_without_discount_list[i - 1] + 1) if i > 0 else 1)\n",
    "#         else:\n",
    "#             days_without_discount_list.append(0)\n",
    "#\n",
    "#     discount['num_days_without_discount_' + id] = days_without_discount_list\n",
    "\n",
    "for id in IDs:\n",
    "    other_dics_list = []\n",
    "    for i in range(0, len(discount['is_discount_' + id])):\n",
    "        other_dics_list.append(int(sum(\n",
    "            [1 if val > 0 else 0 for val in discount[[col for col in discount.columns if 'is_discount_' in col]].loc[i, :]]\n",
    "        )))\n",
    "    discount['num_other_discounts_' + id] = other_dics_list\n",
    "\n",
    "discount"
   ],
   "metadata": {
    "collapsed": false,
    "pycharm": {
     "name": "#%%\n"
    }
   }
  },
  {
   "cell_type": "code",
   "execution_count": 13,
   "outputs": [
    {
     "data": {
      "text/plain": "           date  av_price_46135  av_price_46902  av_price_59042  \\\n0    2009-01-01       65.000000       47.000000       56.000000   \n1    2009-01-02       65.000000       48.000000       60.000000   \n2    2009-01-03       66.000000       48.000000       61.000000   \n3    2009-01-04       65.000000       48.000000       61.000000   \n4    2009-01-05       66.000000       48.000000       61.000000   \n...         ...             ...             ...             ...   \n2186 2014-12-27       46.427693       50.434773       59.985598   \n2187 2014-12-28       46.427693       50.434773       59.985598   \n2188 2014-12-29       46.427693       50.434773       59.985598   \n2189 2014-12-30       46.427693       50.434773       59.985598   \n2190 2014-12-31       46.427693       50.434773       59.985598   \n\n      av_price_75320  av_price_201676  av_price_362058  av_price_415514  \\\n0          84.000000        42.000000        49.943062        36.707605   \n1          84.000000        42.000000        49.943062        36.707605   \n2          84.000000        42.000000        49.943062        36.707605   \n3          84.000000        42.000000        49.943062        36.707605   \n4          84.000000        42.000000        49.943062        36.707605   \n...              ...              ...              ...              ...   \n2186       50.464884        37.007582        49.943062        23.550279   \n2187       50.464884        37.007582        49.943062        23.550279   \n2188       50.464884        37.007582        49.943062        23.550279   \n2189       50.464884        37.007582        49.943062        23.550279   \n2190       50.464884        37.007582        49.943062        23.550279   \n\n      av_price_415824  av_price_419020  ...  month_August  month_December  \\\n0            69.01367        59.973953  ...             0               0   \n1            69.01367        59.973953  ...             0               0   \n2            69.01367        59.973953  ...             0               0   \n3            69.01367        59.973953  ...             0               0   \n4            69.01367        59.973953  ...             0               0   \n...               ...              ...  ...           ...             ...   \n2186         69.01367        52.483479  ...             0               1   \n2187         69.01367        55.174940  ...             0               1   \n2188         69.01367        55.174940  ...             0               1   \n2189         69.01367        55.174940  ...             0               1   \n2190         69.01367        55.174940  ...             0               1   \n\n      month_February  month_July  month_June  month_March  month_May  \\\n0                  0           0           0            0          0   \n1                  0           0           0            0          0   \n2                  0           0           0            0          0   \n3                  0           0           0            0          0   \n4                  0           0           0            0          0   \n...              ...         ...         ...          ...        ...   \n2186               0           0           0            0          0   \n2187               0           0           0            0          0   \n2188               0           0           0            0          0   \n2189               0           0           0            0          0   \n2190               0           0           0            0          0   \n\n      month_November  month_October  month_September  \n0                  0              0                0  \n1                  0              0                0  \n2                  0              0                0  \n3                  0              0                0  \n4                  0              0                0  \n...              ...            ...              ...  \n2186               0              0                0  \n2187               0              0                0  \n2188               0              0                0  \n2189               0              0                0  \n2190               0              0                0  \n\n[2191 rows x 81 columns]",
      "text/html": "<div>\n<style scoped>\n    .dataframe tbody tr th:only-of-type {\n        vertical-align: middle;\n    }\n\n    .dataframe tbody tr th {\n        vertical-align: top;\n    }\n\n    .dataframe thead th {\n        text-align: right;\n    }\n</style>\n<table border=\"1\" class=\"dataframe\">\n  <thead>\n    <tr style=\"text-align: right;\">\n      <th></th>\n      <th>date</th>\n      <th>av_price_46135</th>\n      <th>av_price_46902</th>\n      <th>av_price_59042</th>\n      <th>av_price_75320</th>\n      <th>av_price_201676</th>\n      <th>av_price_362058</th>\n      <th>av_price_415514</th>\n      <th>av_price_415824</th>\n      <th>av_price_419020</th>\n      <th>...</th>\n      <th>month_August</th>\n      <th>month_December</th>\n      <th>month_February</th>\n      <th>month_July</th>\n      <th>month_June</th>\n      <th>month_March</th>\n      <th>month_May</th>\n      <th>month_November</th>\n      <th>month_October</th>\n      <th>month_September</th>\n    </tr>\n  </thead>\n  <tbody>\n    <tr>\n      <th>0</th>\n      <td>2009-01-01</td>\n      <td>65.000000</td>\n      <td>47.000000</td>\n      <td>56.000000</td>\n      <td>84.000000</td>\n      <td>42.000000</td>\n      <td>49.943062</td>\n      <td>36.707605</td>\n      <td>69.01367</td>\n      <td>59.973953</td>\n      <td>...</td>\n      <td>0</td>\n      <td>0</td>\n      <td>0</td>\n      <td>0</td>\n      <td>0</td>\n      <td>0</td>\n      <td>0</td>\n      <td>0</td>\n      <td>0</td>\n      <td>0</td>\n    </tr>\n    <tr>\n      <th>1</th>\n      <td>2009-01-02</td>\n      <td>65.000000</td>\n      <td>48.000000</td>\n      <td>60.000000</td>\n      <td>84.000000</td>\n      <td>42.000000</td>\n      <td>49.943062</td>\n      <td>36.707605</td>\n      <td>69.01367</td>\n      <td>59.973953</td>\n      <td>...</td>\n      <td>0</td>\n      <td>0</td>\n      <td>0</td>\n      <td>0</td>\n      <td>0</td>\n      <td>0</td>\n      <td>0</td>\n      <td>0</td>\n      <td>0</td>\n      <td>0</td>\n    </tr>\n    <tr>\n      <th>2</th>\n      <td>2009-01-03</td>\n      <td>66.000000</td>\n      <td>48.000000</td>\n      <td>61.000000</td>\n      <td>84.000000</td>\n      <td>42.000000</td>\n      <td>49.943062</td>\n      <td>36.707605</td>\n      <td>69.01367</td>\n      <td>59.973953</td>\n      <td>...</td>\n      <td>0</td>\n      <td>0</td>\n      <td>0</td>\n      <td>0</td>\n      <td>0</td>\n      <td>0</td>\n      <td>0</td>\n      <td>0</td>\n      <td>0</td>\n      <td>0</td>\n    </tr>\n    <tr>\n      <th>3</th>\n      <td>2009-01-04</td>\n      <td>65.000000</td>\n      <td>48.000000</td>\n      <td>61.000000</td>\n      <td>84.000000</td>\n      <td>42.000000</td>\n      <td>49.943062</td>\n      <td>36.707605</td>\n      <td>69.01367</td>\n      <td>59.973953</td>\n      <td>...</td>\n      <td>0</td>\n      <td>0</td>\n      <td>0</td>\n      <td>0</td>\n      <td>0</td>\n      <td>0</td>\n      <td>0</td>\n      <td>0</td>\n      <td>0</td>\n      <td>0</td>\n    </tr>\n    <tr>\n      <th>4</th>\n      <td>2009-01-05</td>\n      <td>66.000000</td>\n      <td>48.000000</td>\n      <td>61.000000</td>\n      <td>84.000000</td>\n      <td>42.000000</td>\n      <td>49.943062</td>\n      <td>36.707605</td>\n      <td>69.01367</td>\n      <td>59.973953</td>\n      <td>...</td>\n      <td>0</td>\n      <td>0</td>\n      <td>0</td>\n      <td>0</td>\n      <td>0</td>\n      <td>0</td>\n      <td>0</td>\n      <td>0</td>\n      <td>0</td>\n      <td>0</td>\n    </tr>\n    <tr>\n      <th>...</th>\n      <td>...</td>\n      <td>...</td>\n      <td>...</td>\n      <td>...</td>\n      <td>...</td>\n      <td>...</td>\n      <td>...</td>\n      <td>...</td>\n      <td>...</td>\n      <td>...</td>\n      <td>...</td>\n      <td>...</td>\n      <td>...</td>\n      <td>...</td>\n      <td>...</td>\n      <td>...</td>\n      <td>...</td>\n      <td>...</td>\n      <td>...</td>\n      <td>...</td>\n      <td>...</td>\n    </tr>\n    <tr>\n      <th>2186</th>\n      <td>2014-12-27</td>\n      <td>46.427693</td>\n      <td>50.434773</td>\n      <td>59.985598</td>\n      <td>50.464884</td>\n      <td>37.007582</td>\n      <td>49.943062</td>\n      <td>23.550279</td>\n      <td>69.01367</td>\n      <td>52.483479</td>\n      <td>...</td>\n      <td>0</td>\n      <td>1</td>\n      <td>0</td>\n      <td>0</td>\n      <td>0</td>\n      <td>0</td>\n      <td>0</td>\n      <td>0</td>\n      <td>0</td>\n      <td>0</td>\n    </tr>\n    <tr>\n      <th>2187</th>\n      <td>2014-12-28</td>\n      <td>46.427693</td>\n      <td>50.434773</td>\n      <td>59.985598</td>\n      <td>50.464884</td>\n      <td>37.007582</td>\n      <td>49.943062</td>\n      <td>23.550279</td>\n      <td>69.01367</td>\n      <td>55.174940</td>\n      <td>...</td>\n      <td>0</td>\n      <td>1</td>\n      <td>0</td>\n      <td>0</td>\n      <td>0</td>\n      <td>0</td>\n      <td>0</td>\n      <td>0</td>\n      <td>0</td>\n      <td>0</td>\n    </tr>\n    <tr>\n      <th>2188</th>\n      <td>2014-12-29</td>\n      <td>46.427693</td>\n      <td>50.434773</td>\n      <td>59.985598</td>\n      <td>50.464884</td>\n      <td>37.007582</td>\n      <td>49.943062</td>\n      <td>23.550279</td>\n      <td>69.01367</td>\n      <td>55.174940</td>\n      <td>...</td>\n      <td>0</td>\n      <td>1</td>\n      <td>0</td>\n      <td>0</td>\n      <td>0</td>\n      <td>0</td>\n      <td>0</td>\n      <td>0</td>\n      <td>0</td>\n      <td>0</td>\n    </tr>\n    <tr>\n      <th>2189</th>\n      <td>2014-12-30</td>\n      <td>46.427693</td>\n      <td>50.434773</td>\n      <td>59.985598</td>\n      <td>50.464884</td>\n      <td>37.007582</td>\n      <td>49.943062</td>\n      <td>23.550279</td>\n      <td>69.01367</td>\n      <td>55.174940</td>\n      <td>...</td>\n      <td>0</td>\n      <td>1</td>\n      <td>0</td>\n      <td>0</td>\n      <td>0</td>\n      <td>0</td>\n      <td>0</td>\n      <td>0</td>\n      <td>0</td>\n      <td>0</td>\n    </tr>\n    <tr>\n      <th>2190</th>\n      <td>2014-12-31</td>\n      <td>46.427693</td>\n      <td>50.434773</td>\n      <td>59.985598</td>\n      <td>50.464884</td>\n      <td>37.007582</td>\n      <td>49.943062</td>\n      <td>23.550279</td>\n      <td>69.01367</td>\n      <td>55.174940</td>\n      <td>...</td>\n      <td>0</td>\n      <td>1</td>\n      <td>0</td>\n      <td>0</td>\n      <td>0</td>\n      <td>0</td>\n      <td>0</td>\n      <td>0</td>\n      <td>0</td>\n      <td>0</td>\n    </tr>\n  </tbody>\n</table>\n<p>2191 rows × 81 columns</p>\n</div>"
     },
     "execution_count": 13,
     "metadata": {},
     "output_type": "execute_result"
    }
   ],
   "source": [
    "# ADDING DUMMIES: HOLIDAYS, WEEKDAYS, MONTH\n",
    "\n",
    "import holidays\n",
    "\n",
    "tomato_7['weekday'] = tomato_7['date'].apply(lambda x: x.strftime('%A'))\n",
    "tomato_7['month'] = tomato_7['date'].apply(lambda x: x.strftime('%B'))\n",
    "\n",
    "tomato_7 = pd.get_dummies(tomato_7, drop_first = False)\\\n",
    "    .drop(['weekday_Monday',\n",
    "           'month_January'], axis = 1)\n",
    "\n",
    "# from deep_translator import GoogleTranslator\n",
    "# import functools\n",
    "#\n",
    "# @functools.cache\n",
    "# def translator(x, source = 'russian', target = 'english'):\n",
    "#     return GoogleTranslator(source = source, target = target).translate(x)\n",
    "#\n",
    "# tomato_7['holidays'] = tomato_7['date'].apply(lambda x: holidays.RU().get(x))\\\n",
    "#     .replace({None:'Regular day'})\\\n",
    "#     .apply(lambda x: translator(x))\\\n",
    "#     .apply(lambda x: x.replace(\"'\", '_').replace(' ', '_'))\n",
    "#\n",
    "# tomato_7['holidays_forward'] = tomato_7['holidays'].shift(-1)\n",
    "# tomato_7 = tomato_7[:-1]\n",
    "#\n",
    "# tomato_7.reset_index(drop = True, inplace = True)\n",
    "#\n",
    "# tomato_7 = pd.get_dummies(tomato_7, drop_first = False)\\\n",
    "#     .drop(['holidays_Regular_day',\n",
    "#            'holidays_forward_Regular_day'], axis = 1)\n",
    "\n",
    "discount = discount[discount['date'] >= min(tomato_7['date'])].reset_index(drop = True)\n",
    "tomato_7"
   ],
   "metadata": {
    "collapsed": false,
    "pycharm": {
     "name": "#%%\n"
    }
   }
  },
  {
   "cell_type": "code",
   "execution_count": 14,
   "outputs": [],
   "source": [
    "tomato_7.drop([c for c in tomato_7.columns if IDs[-2] in c], axis = 1, inplace = True)\n",
    "discount.drop([c for c in discount.columns if IDs[-2] in c], axis = 1, inplace = True)"
   ],
   "metadata": {
    "collapsed": false,
    "pycharm": {
     "name": "#%%\n"
    }
   }
  },
  {
   "cell_type": "code",
   "execution_count": 15,
   "outputs": [],
   "source": [
    "# SAVING\n",
    "\n",
    "tomato_7.to_csv('Dataframes/tomato_7.csv', index = False)\n",
    "\n",
    "discount.to_csv('Dataframes/tomato_discount.csv', index = False)"
   ],
   "metadata": {
    "collapsed": false,
    "pycharm": {
     "name": "#%%\n"
    }
   }
  }
 ],
 "metadata": {
  "kernelspec": {
   "display_name": "Python 3",
   "language": "python",
   "name": "python3"
  },
  "language_info": {
   "codemirror_mode": {
    "name": "ipython",
    "version": 2
   },
   "file_extension": ".py",
   "mimetype": "text/x-python",
   "name": "python",
   "nbconvert_exporter": "python",
   "pygments_lexer": "ipython2",
   "version": "2.7.6"
  }
 },
 "nbformat": 4,
 "nbformat_minor": 0
}